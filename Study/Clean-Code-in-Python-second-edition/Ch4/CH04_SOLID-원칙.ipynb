{
 "cells": [
  {
   "cell_type": "markdown",
   "metadata": {},
   "source": [
    "- SOLID 원칙\n",
    "    - S: 단일 책임 원칙 (Single Responsibility Principle)\n",
    "    - O: 개방-폐쇄 원칙 (Open/Closed Principle)\n",
    "    - L: 리스코프 치환 원칙 (Liskov Substitution Principle)\n",
    "    - I: 인터페이스 분리 원칙 (Interface Segregation Principle)\n",
    "    - D: 의존 역전 원칙 (Dependency Inversion Principle)\n",
    "\n",
    "- 이 장의 목표\n",
    "    - 소프트웨어 디자인에서의 SOLID 원칙을 익힌다\n",
    "    - 단일 책임 원칙을 따르는 컴포넌트를 디자인한다\n",
    "    - 개방/폐쇄 원칙을 통해 유지보수성을 뛰어나게 한다\n",
    "    - 리스코프 치환 원칙을 준수하여 객체지향 디자인에서 적절한 클래스 계층을 설계한다\n",
    "    - 인터페이스 분리와 의존성 역전을 활용해 설계하기"
   ]
  },
  {
   "cell_type": "markdown",
   "metadata": {},
   "source": [
    "# 단일 책임 원칙 Single Responsibility Principle\n",
    "- 소프트웨어 컴포넌트 (일반적으로 클래스) 는 단 하나의 책임을 져야 한다\n",
    "    - 단 하나의 구체적인 일을 담당한다\n",
    "    - 변경이 필요한 이유도 단 하나만 있어야 한다 - 해당 도메인의 문제가 변경되는 경우만 클래스가 업데이트 되어야 한다\n",
    "- 신 god 객체\n",
    "    - 필요한 일 이상의 것을 하거나 너무 많은 것을 알고 있는 객체\n",
    "    - 서로 다른 행동을 그룹화하였으므로 유지보수가 어렵다"
   ]
  },
  {
   "cell_type": "markdown",
   "metadata": {},
   "source": [
    "## 너무 많은 책임을 가진 클래스"
   ]
  },
  {
   "cell_type": "code",
   "execution_count": null,
   "metadata": {},
   "outputs": [],
   "source": [
    "class SystemMonitor:\n",
    "    def load_activity(self):\n",
    "        \"\"\"소스에서 처리할 이벤트를 가져오기\"\"\"\n",
    "        print(\"Loading activity...\")\n",
    "\n",
    "    def identify_events(self):\n",
    "        \"\"\"가져온 데이터를 파싱하여 도메인 객체 이벤트로 변환\"\"\"\n",
    "        print(\"Identifying events...\")\n",
    "\n",
    "    def stream_event(self):\n",
    "        \"\"\"파싱한 이벤트를 외부 에이전트로 전송\"\"\"\n",
    "        print(\"Streaming event...\")"
   ]
  },
  {
   "cell_type": "markdown",
   "metadata": {},
   "source": [
    "- 이 클래스의 문제점\n",
    "    - 독립적인 동작을 하는 메서드를 하나의 인터페이스에 정의\n",
    "    - 유지보수가 어려움 -> 클래스가 경직되고 융통성이 없으며 오류가 발생하기 쉬움\n",
    "- 대안: 추상화된 loader 메서드\n",
    "    - 데이터 소스에 연결, 데이터 로드. 예상된 형식으로 파싱\n",
    "    - 데이터 구조를 바꾸는 등의 이유로 이 중의 어떤 것이라도 수정해야 한다면 SystemMonitor 클래스를 변경해야 한다.\n",
    "    - 하지만 그러한 디자인이 정당한가? 아님"
   ]
  },
  {
   "cell_type": "markdown",
   "metadata": {},
   "source": [
    "## 책임 분산\n",
    "- AlertSystem\n",
    "    - has a ActivityWatcher.load(): Events\n",
    "    - has a SystemMonitor.itentify(Event)\n",
    "    - has a Output.stream(List\\[Event\\])\n",
    "- 이렇게 구현하면 변경 사항이 로컬에만 적용되고 영향이 미미하여 유지보수가 쉽다\n",
    "- ActivityWatcher, SystemMonitor, Output은 인터페이스로 구현하여 상속받음"
   ]
  },
  {
   "cell_type": "markdown",
   "metadata": {},
   "source": [
    "# 개방/폐쇄 원칙 (OCP)\n",
    "- 개방/폐쇄 원칙 Open/Close Principle\n",
    "    - 모듈이 개방되어 있으면서도 폐쇄되어야 한다는 원칙\n",
    "    - 유지보수가 쉽도록 로직을 캡슐화하여 확장에는 개방, 수정에는 폐쇄되어야 한다"
   ]
  },
  {
   "cell_type": "markdown",
   "metadata": {},
   "source": [
    "\n",
    "## 개방/폐쇄 원칙을 따르지 않을 경우 유지보수의 어려움"
   ]
  },
  {
   "cell_type": "code",
   "execution_count": 1,
   "metadata": {},
   "outputs": [],
   "source": [
    "from dataclasses import dataclass\n",
    "\n",
    "\n",
    "@dataclass\n",
    "class Event:\n",
    "    raw_data: dict\n",
    "\n",
    "\n",
    "class UnknownEvent(Event):\n",
    "    \"\"\"A type of event that cannot be identified from its data.\"\"\"\n",
    "\n",
    "\n",
    "class LoginEvent(Event):\n",
    "    \"\"\"A event representing a user that has just entered the system.\"\"\"\n",
    "\n",
    "\n",
    "class LogoutEvent(Event):\n",
    "    \"\"\"An event representing a user that has just left the system.\"\"\"\n",
    "\n",
    "\n",
    "class SystemMonitor:\n",
    "    \"\"\"Identify events that occurred in the system\n",
    "\n",
    "    >>> l1 = SystemMonitor({\"before\": {\"session\": 0}, \"after\": {\"session\": 1}})\n",
    "    >>> l1.identify_event().__class__.__name__\n",
    "    'LoginEvent'\n",
    "\n",
    "    >>> l2 = SystemMonitor({\"before\": {\"session\": 1}, \"after\": {\"session\": 0}})\n",
    "    >>> l2.identify_event().__class__.__name__\n",
    "    'LogoutEvent'\n",
    "\n",
    "    >>> l3 = SystemMonitor({\"before\": {\"session\": 1}, \"after\": {\"session\": 1}})\n",
    "    >>> l3.identify_event().__class__.__name__\n",
    "    'UnknownEvent'\n",
    "\n",
    "    \"\"\"\n",
    "\n",
    "    def __init__(self, event_data):\n",
    "        self.event_data = event_data\n",
    "\n",
    "    def identify_event(self):\n",
    "        if (\n",
    "            self.event_data[\"before\"][\"session\"] == 0\n",
    "            and self.event_data[\"after\"][\"session\"] == 1\n",
    "        ):\n",
    "            return LoginEvent(self.event_data)\n",
    "        elif (\n",
    "            self.event_data[\"before\"][\"session\"] == 1\n",
    "            and self.event_data[\"after\"][\"session\"] == 0\n",
    "        ):\n",
    "            return LogoutEvent(self.event_data)\n",
    "\n",
    "        return UnknownEvent(self.event_data)"
   ]
  },
  {
   "cell_type": "code",
   "execution_count": 2,
   "metadata": {},
   "outputs": [
    {
     "data": {
      "text/plain": [
       "'LoginEvent'"
      ]
     },
     "execution_count": 2,
     "metadata": {},
     "output_type": "execute_result"
    }
   ],
   "source": [
    "l1 = SystemMonitor({\"before\": {\"session\": 0}, \"after\": {\"session\": 1}})\n",
    "l1.identify_event().__class__.__name__"
   ]
  },
  {
   "cell_type": "code",
   "execution_count": 3,
   "metadata": {},
   "outputs": [
    {
     "data": {
      "text/plain": [
       "'LogoutEvent'"
      ]
     },
     "execution_count": 3,
     "metadata": {},
     "output_type": "execute_result"
    }
   ],
   "source": [
    "l2 = SystemMonitor({\"before\": {\"session\": 1}, \"after\": {\"session\": 0}})\n",
    "l2.identify_event().__class__.__name__"
   ]
  },
  {
   "cell_type": "code",
   "execution_count": 4,
   "metadata": {},
   "outputs": [
    {
     "data": {
      "text/plain": [
       "'UnknownEvent'"
      ]
     },
     "execution_count": 4,
     "metadata": {},
     "output_type": "execute_result"
    }
   ],
   "source": [
    "l3 = SystemMonitor({\"before\": {\"session\": 1}, \"after\": {\"session\": 1}})\n",
    "l3.identify_event().__class__.__name__"
   ]
  },
  {
   "cell_type": "markdown",
   "metadata": {},
   "source": [
    "- 문제점\n",
    "    - 이벤트 유형을 결정하는 로직이 identify_event에 집중되어 있음\n",
    "        - 이벤트가 늘어날수록 메서드가 커짐\n",
    "        - 새로운 이벤트를 추가할때마다 메서드를 수정해야 함\n",
    "        - elif 문이 가독성에 최악\n",
    "- 메서드를 변경하지 않고 새로운 유형의 이벤트를 추가하는 것이 폐쇄 원칙\n",
    "- 새로운 이벤트를 추가할 때 이미 존재하는 코드를 변경하지 않고 코드를 확장하여 새로운 이벤트를 지원하는 것이 개방 원칙"
   ]
  },
  {
   "cell_type": "markdown",
   "metadata": {},
   "source": [
    "## 확장성을 가진 이벤트 시스템으로 리팩토링"
   ]
  },
  {
   "cell_type": "code",
   "execution_count": 5,
   "metadata": {},
   "outputs": [],
   "source": [
    "from dataclasses import dataclass\n",
    "\n",
    "\n",
    "@dataclass\n",
    "class Event:\n",
    "    raw_data: dict\n",
    "\n",
    "    @staticmethod\n",
    "    def meets_condition(event_data: dict) -> bool:\n",
    "        return False\n",
    "\n",
    "\n",
    "class UnknownEvent(Event):\n",
    "    \"\"\"A type of event that cannot be identified from its data\"\"\"\n",
    "\n",
    "\n",
    "class LoginEvent(Event):\n",
    "    @staticmethod\n",
    "    def meets_condition(event_data: dict):\n",
    "        return (\n",
    "            event_data[\"before\"][\"session\"] == 0\n",
    "            and event_data[\"after\"][\"session\"] == 1\n",
    "        )\n",
    "\n",
    "\n",
    "class LogoutEvent(Event):\n",
    "    @staticmethod\n",
    "    def meets_condition(event_data: dict):\n",
    "        return (\n",
    "            event_data[\"before\"][\"session\"] == 1\n",
    "            and event_data[\"after\"][\"session\"] == 0\n",
    "        )\n",
    "\n",
    "\n",
    "class SystemMonitor:\n",
    "    \"\"\"Identify events that occurred in the system\n",
    "\n",
    "    >>> l1 = SystemMonitor({\"before\": {\"session\": 0}, \"after\": {\"session\": 1}})\n",
    "    >>> l1.identify_event().__class__.__name__\n",
    "    'LoginEvent'\n",
    "\n",
    "    >>> l2 = SystemMonitor({\"before\": {\"session\": 1}, \"after\": {\"session\": 0}})\n",
    "    >>> l2.identify_event().__class__.__name__\n",
    "    'LogoutEvent'\n",
    "\n",
    "    >>> l3 = SystemMonitor({\"before\": {\"session\": 1}, \"after\": {\"session\": 1}})\n",
    "    >>> l3.identify_event().__class__.__name__\n",
    "    'UnknownEvent'\n",
    "\n",
    "    \"\"\"\n",
    "\n",
    "    def __init__(self, event_data):\n",
    "        self.event_data = event_data\n",
    "\n",
    "    def identify_event(self):\n",
    "        for event_cls in Event.__subclasses__():\n",
    "            try:\n",
    "                if event_cls.meets_condition(self.event_data):\n",
    "                    return event_cls(self.event_data)\n",
    "            except KeyError:\n",
    "                continue\n",
    "        return UnknownEvent(self.event_data)"
   ]
  },
  {
   "cell_type": "markdown",
   "metadata": {},
   "source": [
    "## 이벤트 시스템 확장"
   ]
  },
  {
   "cell_type": "code",
   "execution_count": 6,
   "metadata": {},
   "outputs": [],
   "source": [
    "class TransactionEvent(Event):\n",
    "    \"\"\"Represents a transaction that has just occurred on the system.\"\"\"\n",
    "\n",
    "    @staticmethod\n",
    "    def meets_condition(event_data: dict):\n",
    "        return event_data[\"after\"].get(\"transaction\") is not None"
   ]
  },
  {
   "cell_type": "code",
   "execution_count": 7,
   "metadata": {},
   "outputs": [
    {
     "data": {
      "text/plain": [
       "'TransactionEvent'"
      ]
     },
     "execution_count": 7,
     "metadata": {},
     "output_type": "execute_result"
    }
   ],
   "source": [
    "l4 = SystemMonitor({\"after\": {\"transaction\": \"Tx001\"}})\n",
    "l4.identify_event().__class__.__name__"
   ]
  },
  {
   "cell_type": "markdown",
   "metadata": {},
   "source": [
    "- 새 이벤트를 추가했지만 SystemMonitor는 수정하지 않았음\n",
    "- 폐쇄 & 개방 원칙을 따르고 있음"
   ]
  },
  {
   "cell_type": "markdown",
   "metadata": {},
   "source": [
    "## OCP 최종 정리\n",
    "- 다형성의 효과적인 사용과 밀접하게 관련되어 있음\n",
    "    - 다형성을 따르는 형태의 계약을 만들고 모델을 쉽게 확장할 수 있는 일반적인 구조로 디자인하는 것\n",
    "    - \"객체 지향 프로그래밍에서 다형성(Polymorphism)은 객체 지향의 주요 개념 중 하나로, 같은 이름의 메서드나 연산자가 다른 클래스에 대해 다른 동작을 하도록 하는 것을 말합니다.\"\n",
    "- 보호하려는 추상화 (e.g. 새로운 이벤트 유형) 에 대해서 적절한 폐쇄를 해야한다.\n",
    "    - 일부 추상화에서는 충돌이 발생할 수 있기 때문에 모든 프로그램에서 이 원칙을 적용할 수 있는 것은 아니다."
   ]
  },
  {
   "cell_type": "markdown",
   "metadata": {},
   "source": [
    "# 리스코프 치환 원칙 (LSP)\n",
    "- Liskov substitution principle\n",
    "    - 클라이언트가 특별한 주의를 기울이지 않고도 부모클래스를 대신하여 하위 클래스를 그대로 사용할 수 있어야 한다\n",
    "    - 클라이언트는 어떤 하위 타입을 사용해도 정상적으로 동작해야 한다는 뜻\n",
    "- LISKOV 01: 만약 S가 T의 하위 타입이라면 프로그램을 변경하지 않고 T 타입의 객체를 S 타입의 객체로 치환 가능해야 한다."
   ]
  },
  {
   "cell_type": "markdown",
   "metadata": {},
   "source": [
    "\n",
    "## 도구를 사용해 LSP 문제 검사하기"
   ]
  },
  {
   "cell_type": "markdown",
   "metadata": {},
   "source": [
    "### mypy로 잘못된 메서드 서명 검사\n",
    "- 파생 클래스가 부모 클래스에서 정의한 파라미터와 다른 타입을 사용하면 LSP를 위반 -> mypy가 알려줌\n",
    "- 상호 교환이 가능하다는 것은\n",
    "    - 기본 클래스의 메시지를 모두 구현했고 \n",
    "    - 선언되지 않은 다른 public 메서드를 구현하지 않았고\n",
    "    - 메서드의 서명을 변경하지 않았다"
   ]
  },
  {
   "cell_type": "markdown",
   "metadata": {},
   "source": [
    "### pylint로 호환되지 않는 서명 검사\n",
    "- 메서드의 서명 자체가 완전히 다르면 탐지하기 어렵다\n",
    "- mypy로 오류를 잡고 pylint로 통찰을 얻을 수 있다"
   ]
  },
  {
   "cell_type": "markdown",
   "metadata": {},
   "source": [
    "### 애매한 LSP 위반 사례\n",
    "- 계약이 수정되면 자동으로 감지하기 어렵다\n",
    "    - 계약은 계층 어디서나 항상 유지되어야 한다\n",
    "    - 부모 클래스의 계약을 하위 클래스가 따라야 한다.\n",
    "        - 하위 클래스가 부모 클래스에 정의된 것 보다 사전 조건을 엄격하게 만들면 안 된다\n",
    "        - 하위 클래스는 부모 클래스에 정의된 것 보다 약한 사후조건을 만들면 안 된다"
   ]
  },
  {
   "cell_type": "code",
   "execution_count": 8,
   "metadata": {},
   "outputs": [],
   "source": [
    "from collections.abc import Mapping\n",
    "\n",
    "\n",
    "class Event:\n",
    "    def __init__(self, raw_data):\n",
    "        self.raw_data = raw_data\n",
    "\n",
    "    @staticmethod\n",
    "    def meets_condition(event_data: dict) -> bool:\n",
    "        return False\n",
    "\n",
    "    @staticmethod\n",
    "    def validate_precondition(event_data: dict):\n",
    "        \"\"\"Precondition of the contract of this interface.\n",
    "\n",
    "        Validate that the ``event_data`` parameter is properly formed.\n",
    "        \"\"\"\n",
    "        if not isinstance(event_data, Mapping):\n",
    "            raise ValueError(f\"{event_data!r} is not a dict\")\n",
    "        for moment in (\"before\", \"after\"):\n",
    "            if moment not in event_data:\n",
    "                raise ValueError(f\"{moment} not in {event_data}\")\n",
    "            if not isinstance(event_data[moment], Mapping):\n",
    "                raise ValueError(f\"event_data[{moment!r}] is not a dict\")\n",
    "\n",
    "\n",
    "class UnknownEvent(Event):\n",
    "    \"\"\"A type of event that cannot be identified from its data\"\"\"\n",
    "\n",
    "\n",
    "class LoginEvent(Event):\n",
    "    @staticmethod\n",
    "    def meets_condition(event_data: dict) -> bool:\n",
    "        return (\n",
    "            event_data[\"before\"].get(\"session\") == 0\n",
    "            and event_data[\"after\"].get(\"session\") == 1\n",
    "        )\n",
    "\n",
    "\n",
    "class LogoutEvent(Event):\n",
    "    @staticmethod\n",
    "    def meets_condition(event_data: dict) -> bool:\n",
    "        return (\n",
    "            event_data[\"before\"].get(\"session\") == 1\n",
    "            and event_data[\"after\"].get(\"session\") == 0\n",
    "        )\n",
    "\n",
    "\n",
    "class TransactionEvent(Event):\n",
    "    \"\"\"Represents a transaction that has just occurred on the system.\"\"\"\n",
    "\n",
    "    @staticmethod\n",
    "    def meets_condition(event_data: dict) -> bool:\n",
    "        return event_data[\"after\"].get(\"transaction\") is not None\n",
    "\n",
    "\n",
    "class SystemMonitor:\n",
    "    \"\"\"Identify events that occurred in the system\n",
    "\n",
    "    >>> l1 = SystemMonitor({\"before\": {\"session\": 0}, \"after\": {\"session\": 1}})\n",
    "    >>> l1.identify_event().__class__.__name__\n",
    "    'LoginEvent'\n",
    "\n",
    "    >>> l2 = SystemMonitor({\"before\": {\"session\": 1}, \"after\": {\"session\": 0}})\n",
    "    >>> l2.identify_event().__class__.__name__\n",
    "    'LogoutEvent'\n",
    "\n",
    "    >>> l3 = SystemMonitor({\"before\": {\"session\": 1}, \"after\": {\"session\": 1}})\n",
    "    >>> l3.identify_event().__class__.__name__\n",
    "    'UnknownEvent'\n",
    "\n",
    "    >>> l4 = SystemMonitor({\"before\": {}, \"after\": {\"transaction\": \"Tx001\"}})\n",
    "    >>> l4.identify_event().__class__.__name__\n",
    "    'TransactionEvent'\n",
    "\n",
    "    \"\"\"\n",
    "\n",
    "    def __init__(self, event_data):\n",
    "        self.event_data = event_data\n",
    "\n",
    "    def identify_event(self):\n",
    "        Event.validate_precondition(self.event_data)\n",
    "        event_cls = next(\n",
    "            (\n",
    "                event_cls\n",
    "                for event_cls in Event.__subclasses__()\n",
    "                if event_cls.meets_condition(self.event_data)\n",
    "            ),\n",
    "            UnknownEvent,\n",
    "        )\n",
    "        return event_cls(self.event_data)"
   ]
  },
  {
   "cell_type": "markdown",
   "metadata": {},
   "source": [
    "### LSP 최종 정리"
   ]
  },
  {
   "cell_type": "markdown",
   "metadata": {},
   "source": [
    "# 인터페이스 분리 원칙\n",
    "- Interface Segregation Principle\n",
    "    - 인터페이스: 객체가 노출하는 메서드의 집합\n",
    "- 덕 타이핑의 원리: 어떤 새가 오리처럼 걷고 오리처럼 꽥꽥 소리를 낸다면 오리여야만 한다\n",
    "    - 모든 객체가 자신이 가지고 있는 메서드와 자신이 할 수 있는 일에 의해서 표현된다\n",
    "    - 클래스의 다른 속성에 관계 없이 객체의 본질을 정의하는 것은 궁극적으로 메서드의 형태이다.\n",
    "- 추상 기본 클래스 abstract base class\n",
    "    - 파생 클래스가 반드시 구현해야 하는 것을 명시적으로 가리키기 위한 도구\n",
    "    - 위에서 Event를 추상 기본 클래스로 지정하면 Event 클래스는 인터페이스로 동작해서 각 파생 클래스가 meats_conditions 메서드를 구현하도록 강제한다.\n",
    "    - 방법: @abstractmethod 데코레이터 사용\n",
    "- 가상 서브 클래스 virtual subclass\n",
    "    - ABC의 register()를 사용해서 기존 기본 클래스에 파생 클래스를 추가\n",
    "    - 오리처럼 행동하는 새로운 오리 등록하기\n",
    "- ISP의 추상적인 의미\n",
    "    - 여러 메서드를 가진 인터페이스가 있다면 매우 정확하고 구체적인 구분에 따라 더 적은 수의 메서드를 가진 여러개의 인터페이스로 분할하는 것이 좋다.\n",
    "    - 재사용성을 높이기 위해 가능한 작은 단위로 인터페이스를 분리한다면 인터페이스를 구현하려는 각 클래스가 매우 명확한 동작과 책임을 지니기 때문에 응집력이 높아진다."
   ]
  },
  {
   "cell_type": "markdown",
   "metadata": {},
   "source": [
    "## 너무 많은 일을 하는 인터페이스\n",
    "- xml 과 json을 파싱하는 클래스\n",
    "    - 나누는게 좋다"
   ]
  },
  {
   "cell_type": "markdown",
   "metadata": {},
   "source": [
    "## 인터페이스는 작을수록 좋다"
   ]
  },
  {
   "cell_type": "code",
   "execution_count": 2,
   "metadata": {},
   "outputs": [],
   "source": [
    "from abc import ABCMeta, abstractmethod\n",
    "\n",
    "\n",
    "class XMLEventParser(metaclass=ABCMeta):\n",
    "    @abstractmethod\n",
    "    def from_xml(xml_data: str):\n",
    "        \"\"\"Parse an event from a source in XML representation.\"\"\"\n",
    "\n",
    "\n",
    "class JSONEventParser(metaclass=ABCMeta):\n",
    "    @abstractmethod\n",
    "    def from_json(json_data: str):\n",
    "        \"\"\"Parse an event from a source in JSON format.\"\"\"\n",
    "\n",
    "\n",
    "class EventParser(XMLEventParser, JSONEventParser):\n",
    "    \"\"\"An event parser that can create an event from source data either\n",
    "    in XML or JSON format.\n",
    "    \"\"\"\n",
    "\n",
    "    def from_xml(xml_data):\n",
    "        pass\n",
    "\n",
    "    def from_json(json_data: str):\n",
    "        pass"
   ]
  },
  {
   "cell_type": "code",
   "execution_count": 3,
   "metadata": {},
   "outputs": [
    {
     "data": {
      "text/plain": [
       "<__main__.EventParser at 0x111a9ff10>"
      ]
     },
     "execution_count": 3,
     "metadata": {},
     "output_type": "execute_result"
    }
   ],
   "source": [
    "EventParser() # ????"
   ]
  },
  {
   "cell_type": "code",
   "execution_count": 4,
   "metadata": {},
   "outputs": [],
   "source": [
    "EventParser().from_xml()"
   ]
  },
  {
   "cell_type": "markdown",
   "metadata": {},
   "source": [
    "- SRP와 유사하지만 ISP는 인터페이스에 대해 이야기하고 있다 = 행동의 추상화"
   ]
  },
  {
   "cell_type": "markdown",
   "metadata": {},
   "source": [
    "## 인터페이스는 얼마나 작아야 할까?\n",
    "- 추상 클래스든 기본 클래스든 \"인터페이스를 정의\" 하는건 같음\n",
    "    - 응집력의 관점에서 가능한 단 한가지 일을 수행하는 작은 인터페이스여야 함\n",
    "    - 그러나 딱 한가지 메서드를 의미하는 것은 아님\n",
    "        - e.g. 컨텍스트 매니저"
   ]
  },
  {
   "cell_type": "markdown",
   "metadata": {},
   "source": [
    "# 의존성 역전\n",
    "- Dependency Inverse Principle\n",
    "    - 코드가 깨지거나 손상되는 취약점으로부터 보호해주는 디자인 원칙\n",
    "    - 코드가 세부사항이나 구체적인 구현에 적응하도록 하지 않고, API 같은 것에 적응하도록 하는 것\n",
    "    - 추상화를 통해 세부사항에 의존하지 않도록 해야 하지만, 반대로 세부 사항 (구체적인 구현) 은 추상화에 의존해야 한다. <-?\n",
    "- 예시\n",
    "    - A와 B가 상호 교류\n",
    "    - A는 B 인스턴스를 사용하지만 B 모듈을 직접 관리하지는 않는다.\n",
    "    - 코드가 B에 크게 의존하면 B 코드가 변경되었을 때 원래의 코드가 쉽게 깨지게 된다\n",
    "    - 어떻게 해야할까? B가 A에 적응하게 하자"
   ]
  },
  {
   "cell_type": "markdown",
   "metadata": {},
   "source": [
    "## 강한 의존성을 가진 예\n",
    "- EventStreamer 클래스 (목표지) 에 전송하는 이벤트 전송 클래스 Syslog\n",
    "- 저수준의 내용에 따라 고수준의 클래스가 변경되어야 하므로 좋은 디자인이 아니다.\n",
    "    - Syslog가 변경되면 EventStreamer를 수정해야 한다."
   ]
  },
  {
   "cell_type": "markdown",
   "metadata": {},
   "source": [
    "## 의존성을 거꾸로\n",
    "- 대안: EventStreamer를 인터페이스와 대화하도록 하기\n",
    "    - EventStreamer가 구체적인 구현을 하지 않고, 인터페이스와 대화하도록 한다.\n",
    "    - DataTargetClient를 부모 클래스로 두고 파생 클래스로 Syslog를 만들어서 이것을 EventStreamer에게 인스턴스로 넘겨준다.\n",
    "    - 그러면 나중에 send 함수가 바뀌었을 때 DataTargetClient의 다른 파생 클래스를 EventStreamer에게 넘겨주기만 하면 된다.\n",
    "- 의존성을 동적으로 제공하기 때문에 의존성 주입이라고도 한다.\n",
    "- 상속을 꼭 구현해야 하는것은 아니지만, 가독성과 (is a 관계) 실수를 줄이기 위해 권장된다."
   ]
  },
  {
   "cell_type": "markdown",
   "metadata": {},
   "source": [
    "## 의존성 주입 (Dependency injection)"
   ]
  },
  {
   "cell_type": "code",
   "execution_count": 13,
   "metadata": {},
   "outputs": [],
   "source": [
    "from __future__ import annotations\n",
    "\n",
    "import json\n",
    "\n",
    "from abc import ABCMeta, abstractmethod\n",
    "\n",
    "\n",
    "class Event:\n",
    "    def __init__(self, content: dict) -> None:\n",
    "        self._content = content\n",
    "\n",
    "    def serialise(self):\n",
    "        return json.dumps(self._content)\n",
    "\n",
    "\n",
    "class DataTargetClient(metaclass=ABCMeta):\n",
    "    @abstractmethod\n",
    "    def send(self, content: bytes):\n",
    "        \"\"\"Send raw content to a particular target.\"\"\"\n",
    "\n",
    "\n",
    "class Syslog(DataTargetClient):\n",
    "    def send(self, content: bytes):\n",
    "        return f\"[{self.__class__.__name__}] sent {len(content)} bytes\"\n",
    "\n",
    "\n",
    "class EventStreamer:\n",
    "    def __init__(self, target: DataTargetClient):\n",
    "        self.target = target\n",
    "\n",
    "    def stream(self, events: list[Event]) -> None:\n",
    "        for event in events:\n",
    "            self.target.send(event.serialise())"
   ]
  },
  {
   "cell_type": "markdown",
   "metadata": {},
   "source": [
    "- 만약 복잡한 초기화 과정을 가졌거나 초기화 인자가 많다면, 종속성 그래프를 만들고 관련 라이브러리가 생성을 담당하도록 하는 것도 좋은 방법"
   ]
  },
  {
   "cell_type": "code",
   "execution_count": 5,
   "metadata": {},
   "outputs": [
    {
     "ename": "ModuleNotFoundError",
     "evalue": "No module named '_gdbm'",
     "output_type": "error",
     "traceback": [
      "\u001b[0;31m---------------------------------------------------------------------------\u001b[0m",
      "\u001b[0;31mModuleNotFoundError\u001b[0m                       Traceback (most recent call last)",
      "Cell \u001b[0;32mIn[5], line 43\u001b[0m\n\u001b[1;32m     39\u001b[0m     \u001b[38;5;28;01mdef\u001b[39;00m \u001b[38;5;21mprovide_target\u001b[39m(\u001b[38;5;28mself\u001b[39m):\n\u001b[1;32m     40\u001b[0m         \u001b[38;5;28;01mreturn\u001b[39;00m Syslog()\n\u001b[0;32m---> 43\u001b[0m object_graph \u001b[38;5;241m=\u001b[39m \u001b[43mpinject\u001b[49m\u001b[38;5;241;43m.\u001b[39;49m\u001b[43mnew_object_graph\u001b[49m\u001b[43m(\u001b[49m\n\u001b[1;32m     44\u001b[0m \u001b[43m    \u001b[49m\u001b[43mbinding_specs\u001b[49m\u001b[38;5;241;43m=\u001b[39;49m\u001b[43m[\u001b[49m\u001b[43m_EventStreamerBindingSpec\u001b[49m\u001b[43m(\u001b[49m\u001b[43m)\u001b[49m\u001b[43m]\u001b[49m\n\u001b[1;32m     45\u001b[0m \u001b[43m)\u001b[49m\n",
      "File \u001b[0;32m/opt/anaconda3/envs/visualization/lib/python3.9/site-packages/pinject/object_graph.py:100\u001b[0m, in \u001b[0;36mnew_object_graph\u001b[0;34m(modules, classes, binding_specs, only_use_explicit_bindings, allow_injecting_none, configure_method_name, dependencies_method_name, get_arg_names_from_class_name, get_arg_names_from_provider_fn_name, id_to_scope, is_scope_usable_from_scope, use_short_stack_traces)\u001b[0m\n\u001b[1;32m     97\u001b[0m bindable_scopes \u001b[38;5;241m=\u001b[39m scoping\u001b[38;5;241m.\u001b[39mBindableScopes(id_to_scope)\n\u001b[1;32m     98\u001b[0m known_scope_ids \u001b[38;5;241m=\u001b[39m id_to_scope\u001b[38;5;241m.\u001b[39mkeys()\n\u001b[0;32m--> 100\u001b[0m found_classes \u001b[38;5;241m=\u001b[39m \u001b[43mfinding\u001b[49m\u001b[38;5;241;43m.\u001b[39;49m\u001b[43mfind_classes\u001b[49m\u001b[43m(\u001b[49m\u001b[43mmodules\u001b[49m\u001b[43m,\u001b[49m\u001b[43m \u001b[49m\u001b[43mclasses\u001b[49m\u001b[43m)\u001b[49m\n\u001b[1;32m    101\u001b[0m \u001b[38;5;28;01mif\u001b[39;00m only_use_explicit_bindings:\n\u001b[1;32m    102\u001b[0m     implicit_class_bindings \u001b[38;5;241m=\u001b[39m []\n",
      "File \u001b[0;32m/opt/anaconda3/envs/visualization/lib/python3.9/site-packages/pinject/finding.py:32\u001b[0m, in \u001b[0;36mfind_classes\u001b[0;34m(modules, classes)\u001b[0m\n\u001b[1;32m     29\u001b[0m \u001b[38;5;28;01mfor\u001b[39;00m module \u001b[38;5;129;01min\u001b[39;00m _get_explicit_or_default_modules(modules):\n\u001b[1;32m     30\u001b[0m     \u001b[38;5;66;03m# TODO(kurts): how is a module getting to be None??\u001b[39;00m\n\u001b[1;32m     31\u001b[0m     \u001b[38;5;28;01mif\u001b[39;00m module \u001b[38;5;129;01mis\u001b[39;00m \u001b[38;5;129;01mnot\u001b[39;00m \u001b[38;5;28;01mNone\u001b[39;00m:\n\u001b[0;32m---> 32\u001b[0m         all_classes \u001b[38;5;241m|\u001b[39m\u001b[38;5;241m=\u001b[39m \u001b[43m_find_classes_in_module\u001b[49m\u001b[43m(\u001b[49m\u001b[43mmodule\u001b[49m\u001b[43m)\u001b[49m\n\u001b[1;32m     33\u001b[0m \u001b[38;5;28;01mreturn\u001b[39;00m all_classes\n",
      "File \u001b[0;32m/opt/anaconda3/envs/visualization/lib/python3.9/site-packages/pinject/finding.py:46\u001b[0m, in \u001b[0;36m_find_classes_in_module\u001b[0;34m(module)\u001b[0m\n\u001b[1;32m     44\u001b[0m \u001b[38;5;28;01mdef\u001b[39;00m \u001b[38;5;21m_find_classes_in_module\u001b[39m(module):\n\u001b[1;32m     45\u001b[0m     classes \u001b[38;5;241m=\u001b[39m \u001b[38;5;28mset\u001b[39m()\n\u001b[0;32m---> 46\u001b[0m     \u001b[38;5;28;01mfor\u001b[39;00m member_name, member \u001b[38;5;129;01min\u001b[39;00m \u001b[43minspect\u001b[49m\u001b[38;5;241;43m.\u001b[39;49m\u001b[43mgetmembers\u001b[49m\u001b[43m(\u001b[49m\u001b[43mmodule\u001b[49m\u001b[43m)\u001b[49m:\n\u001b[1;32m     47\u001b[0m         \u001b[38;5;28;01mif\u001b[39;00m inspect\u001b[38;5;241m.\u001b[39misclass(member) \u001b[38;5;129;01mand\u001b[39;00m \u001b[38;5;129;01mnot\u001b[39;00m member_name \u001b[38;5;241m==\u001b[39m \u001b[38;5;124m'\u001b[39m\u001b[38;5;124m__class__\u001b[39m\u001b[38;5;124m'\u001b[39m:\n\u001b[1;32m     48\u001b[0m             classes\u001b[38;5;241m.\u001b[39madd(member)\n",
      "File \u001b[0;32m/opt/anaconda3/envs/visualization/lib/python3.9/inspect.py:351\u001b[0m, in \u001b[0;36mgetmembers\u001b[0;34m(object, predicate)\u001b[0m\n\u001b[1;32m    346\u001b[0m \u001b[38;5;28;01mfor\u001b[39;00m key \u001b[38;5;129;01min\u001b[39;00m names:\n\u001b[1;32m    347\u001b[0m     \u001b[38;5;66;03m# First try to get the value via getattr.  Some descriptors don't\u001b[39;00m\n\u001b[1;32m    348\u001b[0m     \u001b[38;5;66;03m# like calling their __get__ (see bug #1785), so fall back to\u001b[39;00m\n\u001b[1;32m    349\u001b[0m     \u001b[38;5;66;03m# looking in the __dict__.\u001b[39;00m\n\u001b[1;32m    350\u001b[0m     \u001b[38;5;28;01mtry\u001b[39;00m:\n\u001b[0;32m--> 351\u001b[0m         value \u001b[38;5;241m=\u001b[39m \u001b[38;5;28;43mgetattr\u001b[39;49m\u001b[43m(\u001b[49m\u001b[38;5;28;43mobject\u001b[39;49m\u001b[43m,\u001b[49m\u001b[43m \u001b[49m\u001b[43mkey\u001b[49m\u001b[43m)\u001b[49m\n\u001b[1;32m    352\u001b[0m         \u001b[38;5;66;03m# handle the duplicate key\u001b[39;00m\n\u001b[1;32m    353\u001b[0m         \u001b[38;5;28;01mif\u001b[39;00m key \u001b[38;5;129;01min\u001b[39;00m processed:\n",
      "File \u001b[0;32m/opt/anaconda3/envs/visualization/lib/python3.9/site-packages/six.py:97\u001b[0m, in \u001b[0;36m_LazyDescr.__get__\u001b[0;34m(self, obj, tp)\u001b[0m\n\u001b[1;32m     96\u001b[0m \u001b[38;5;28;01mdef\u001b[39;00m \u001b[38;5;21m__get__\u001b[39m(\u001b[38;5;28mself\u001b[39m, obj, tp):\n\u001b[0;32m---> 97\u001b[0m     result \u001b[38;5;241m=\u001b[39m \u001b[38;5;28;43mself\u001b[39;49m\u001b[38;5;241;43m.\u001b[39;49m\u001b[43m_resolve\u001b[49m\u001b[43m(\u001b[49m\u001b[43m)\u001b[49m\n\u001b[1;32m     98\u001b[0m     \u001b[38;5;28msetattr\u001b[39m(obj, \u001b[38;5;28mself\u001b[39m\u001b[38;5;241m.\u001b[39mname, result)  \u001b[38;5;66;03m# Invokes __set__.\u001b[39;00m\n\u001b[1;32m     99\u001b[0m     \u001b[38;5;28;01mtry\u001b[39;00m:\n\u001b[1;32m    100\u001b[0m         \u001b[38;5;66;03m# This is a bit ugly, but it avoids running this again by\u001b[39;00m\n\u001b[1;32m    101\u001b[0m         \u001b[38;5;66;03m# removing this descriptor.\u001b[39;00m\n",
      "File \u001b[0;32m/opt/anaconda3/envs/visualization/lib/python3.9/site-packages/six.py:120\u001b[0m, in \u001b[0;36mMovedModule._resolve\u001b[0;34m(self)\u001b[0m\n\u001b[1;32m    119\u001b[0m \u001b[38;5;28;01mdef\u001b[39;00m \u001b[38;5;21m_resolve\u001b[39m(\u001b[38;5;28mself\u001b[39m):\n\u001b[0;32m--> 120\u001b[0m     \u001b[38;5;28;01mreturn\u001b[39;00m \u001b[43m_import_module\u001b[49m\u001b[43m(\u001b[49m\u001b[38;5;28;43mself\u001b[39;49m\u001b[38;5;241;43m.\u001b[39;49m\u001b[43mmod\u001b[49m\u001b[43m)\u001b[49m\n",
      "File \u001b[0;32m/opt/anaconda3/envs/visualization/lib/python3.9/site-packages/six.py:87\u001b[0m, in \u001b[0;36m_import_module\u001b[0;34m(name)\u001b[0m\n\u001b[1;32m     85\u001b[0m \u001b[38;5;28;01mdef\u001b[39;00m \u001b[38;5;21m_import_module\u001b[39m(name):\n\u001b[1;32m     86\u001b[0m \u001b[38;5;250m    \u001b[39m\u001b[38;5;124;03m\"\"\"Import module, returning the module after the last dot.\"\"\"\u001b[39;00m\n\u001b[0;32m---> 87\u001b[0m     \u001b[38;5;28;43m__import__\u001b[39;49m\u001b[43m(\u001b[49m\u001b[43mname\u001b[49m\u001b[43m)\u001b[49m\n\u001b[1;32m     88\u001b[0m     \u001b[38;5;28;01mreturn\u001b[39;00m sys\u001b[38;5;241m.\u001b[39mmodules[name]\n",
      "File \u001b[0;32m/opt/anaconda3/envs/visualization/lib/python3.9/dbm/gnu.py:3\u001b[0m\n\u001b[1;32m      1\u001b[0m \u001b[38;5;124;03m\"\"\"Provide the _gdbm module as a dbm submodule.\"\"\"\u001b[39;00m\n\u001b[0;32m----> 3\u001b[0m \u001b[38;5;28;01mfrom\u001b[39;00m \u001b[38;5;21;01m_gdbm\u001b[39;00m \u001b[38;5;28;01mimport\u001b[39;00m \u001b[38;5;241m*\u001b[39m\n",
      "\u001b[0;31mModuleNotFoundError\u001b[0m: No module named '_gdbm'"
     ]
    }
   ],
   "source": [
    "from __future__ import annotations\n",
    "\n",
    "import json\n",
    "\n",
    "from abc import ABCMeta, abstractmethod\n",
    "\n",
    "import pinject\n",
    "\n",
    "\n",
    "class Event:\n",
    "    def __init__(self, content: dict) -> None:\n",
    "        self._content = content\n",
    "\n",
    "    def serialise(self):\n",
    "        return json.dumps(self._content)\n",
    "\n",
    "\n",
    "class DataTargetClient(metaclass=ABCMeta):\n",
    "    @abstractmethod\n",
    "    def send(self, content: bytes):\n",
    "        \"\"\"Send raw content to a particular target.\"\"\"\n",
    "\n",
    "\n",
    "class Syslog(DataTargetClient):\n",
    "    def send(self, content: bytes):\n",
    "        return f\"[{self.__class__.__name__}] sent {len(content)} bytes\"\n",
    "\n",
    "\n",
    "class EventStreamer:\n",
    "    def __init__(self, target: DataTargetClient):\n",
    "        self.target = target\n",
    "\n",
    "    def stream(self, events: list[Event]) -> None:\n",
    "        for event in events:\n",
    "            self.target.send(event.serialise())\n",
    "\n",
    "\n",
    "class _EventStreamerBindingSpec(pinject.BindingSpec):\n",
    "    def provide_target(self):\n",
    "        return Syslog()\n",
    "\n",
    "\n",
    "object_graph = pinject.new_object_graph(\n",
    "    binding_specs=[_EventStreamerBindingSpec()]\n",
    ")"
   ]
  },
  {
   "cell_type": "markdown",
   "metadata": {},
   "source": [
    "- 팩토리 객체와 유사\n",
    "- 의존성을 주입한다고 해서 원래 디자인에서 얻은 유연성을 잃은 것은 아니다."
   ]
  },
  {
   "cell_type": "markdown",
   "metadata": {},
   "source": [
    "# 요약\n",
    "- 소프트웨어 빌드는 어려운 작업이다.\n",
    "    - 로직은 복잡하고 런타임에서의 동작은 예측활 수 없을 수 있고 요구사항은 지속적으로 변하고 환경도 끊임없이 변한다.\n",
    "    - 다양한 기술 패러다임을 사용한 디자인으로 구성이 바뀔 수 있으며 요구사항이 변경되면 접근방식이 바뀌어야 할 수도 있다.\n",
    "- SOLID 원칙에 충실하면 수년 후에도 융통성 있게 변화에 적응할 수 있게 구현할 수 있다."
   ]
  },
  {
   "cell_type": "markdown",
   "metadata": {},
   "source": []
  }
 ],
 "metadata": {
  "kernelspec": {
   "display_name": "visualization",
   "language": "python",
   "name": "visualization"
  },
  "language_info": {
   "codemirror_mode": {
    "name": "ipython",
    "version": 3
   },
   "file_extension": ".py",
   "mimetype": "text/x-python",
   "name": "python",
   "nbconvert_exporter": "python",
   "pygments_lexer": "ipython3",
   "version": "3.9.15"
  }
 },
 "nbformat": 4,
 "nbformat_minor": 2
}
