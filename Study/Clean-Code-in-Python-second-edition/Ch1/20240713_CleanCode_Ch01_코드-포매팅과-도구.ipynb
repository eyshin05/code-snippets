{
 "cells": [
  {
   "cell_type": "markdown",
   "id": "35559b52",
   "metadata": {},
   "source": [
    "- 클린코드란?\n",
    "    - 필수적인 것이며 단순히 멋있거나 사치품이 아닌 것\n",
    "    - 코드의 품질을 관리하여 **기술 부채**(나중에 설명)를 해소시키고 프로젝트의 실패 가능성을 낮출 수 있는 방법\n",
    "- 포매팅과 문서화\n",
    "    - 코드를 관리하는 한 가지 방법이자 기본적인 역할\n",
    "- 이 장의 목표\n",
    "    - 강조: 코딩 가이드라인을 준수하는 적은 중요하다!\n",
    "    - 설명: 코드와 문서를 일치시키려면 지속적인 작업이 필요하다\n",
    "        - 왜?\n",
    "        - 자동화하기 위한 도구는 어떤 것이 있는가?\n",
    "        - 빌드할 때 주요 도구를 설정하여 자동 실행되도록 해 보자!\n",
    "- 읽은 후에 알게 될 것\n",
    "    - 클린 코드란 무엇인가\n",
    "    - 클린 코드는 왜 중요한가\n",
    "    - 왜 포매팅과 문서화가 중요한가\n",
    "    - 이 과정을 어떻게 자동화하는가\n",
    "- 이 장에서 다루는 주제\n",
    "    - 클린 코드는 포매팅 이상의 훨씬 중요한 것을 의미한다\n",
    "    - 표준 포매팅을 유지하는 것은 유지보수성의 핵심 유의사항이다\n",
    "    - 파이썬이 제공하는 기능을 사용하여 자체 문서화된 코드를 작성하는 방법을 알아보자\n",
    "    - 코드 레이아웃을 일정하게 유지하여 팀 멤버들이 문제의 본질을 해결하는데 초점을 맞출 수 있도록 도구를 설정하는 방법을 알아보자"
   ]
  },
  {
   "cell_type": "markdown",
   "id": "74108749",
   "metadata": {},
   "source": [
    "# 서론\n",
    "## 클린 코드의 의미\n",
    "- 엄격한 정의는 없다!\n",
    "- 공식적으로 측정할 방법도 없을 것이다!\n",
    "- 도와줄 수 있는 도구: checker, linter, ...\n",
    "    - 하지만 충분하지 않다! 기계가 판단할 수 없고, 전문가가 판단할 수 있는 것\n",
    "- 하지만 본질은 있다.\n",
    "    - 클린 코드란- 다른 엔지니어가 코드를 읽고 유지 관리할 수 있는가?\n",
    "        - 전문가인 우리 자신이 판단할 수 밖에 없는것!\n",
    "    - 우리는 코드를 작성하는 것보다 읽는데 훨씬 많은 시간을 소비하고 있다...!\n",
    "    - 파이썬은 의사소통을 하기 위한 도구!\n",
    "- 독자의 역할\n",
    "    - 파이썬의 주요 개념을 이해하자\n",
    "    - 좋은 코드와 나쁜 코드의 차이점을 확인하자\n",
    "    - 훌륭한 코드와 좋은 아키텍처의 특징을 식별하여 자신만의 정의를 해 보자\n",
    "- 클린 코드의 정의는 사람마다 다르지만, 이 책을 통해 그것이 무엇이며 무엇을 의미하는지 알게 될 것이다."
   ]
  },
  {
   "cell_type": "markdown",
   "id": "9754650c",
   "metadata": {},
   "source": [
    "## 클린 코드의 중요성\n",
    "- 엄청나게 많다!\n",
    "    - 유지보수성 향상\n",
    "    - 기술 부채의 감소\n",
    "    - 애자일 개발을 통한 효과적인 작업 진행\n",
    "    - 성공적인 프로젝트 관리로 이어짐\n",
    "- 민첩한 개발과 지속적인 배포가 가능하다\n",
    "    - 일정하게 예측 가능한 속도로 지속적으로 배포하려고 한다? 유지보수성이 필수\n",
    "    - 예시: 자동차 운전 시 특정 지점에 정확한 시간에 도착하고 싶다?\n",
    "        - 도로 사정이 완벽해야 한다. 도로에 균열이 있거나, 떨어진 바위가 있어 돌아가야 하거나, 때때로 엔진 점검을 해야 한다면 언제 도착할지 알 수 없음!\n",
    "    - 마찬가지로 일정하고 꾸준하게 예측 가능한 속도로 움직이고 싶다?\n",
    "        - 코드가 유지보수 가능한 상태로 가독성이 높아야 한다. 기획자가 새로운 기능을 요구할때마다 리팩토링 하고 기술 부채를 해결해야한다면 멈춰야 함!\n",
    "- 기술 부채 (Technical debt)\n",
    "    - 나쁜 결정, 적당한 타협의 결과로 생긴 소프트웨어적 결함\n",
    "    - 두 가지 방향으로 생각해보기\n",
    "        - 현재 -> 과거: 현재 직면한 문제가 과거의 잘못된 코드 때문에 생긴 게 아닐까?\n",
    "        - 현재 -> 미래: 현재 직면한 문제를 지름길로 가면 미래에 어떤 문제가 생기는게 아닐까?\n",
    "    - 코드는 지금 바꾸는 것 보다 미래에 바꾸는 게 더 어렵기 때문에 빚(부채)이다!\n",
    "        - *eys 주:* 이 코드를 다른 사람이 가져다 쓰고, 이 코드를 고려해서 다른 코드들이 작성되기 때문\n",
    "    - 리팩토링: 코드를 수정하기 위해 멈추는 것\n",
    "        - 제 시간에 어떤 것을 제공할 수 없게 됨\n",
    "        - 기술 부채에 대한 비용을 지불한다는 것\n",
    "- 애자일과 기술 부채\n",
    "    - 기술 부채가 있으면 쉽게 변경하기 어렵고, 변화하는 요구사항에 신속하게 대응하기 어려울 것\n",
    "    - 애자일 개발에 어울리지 않는다!\n",
    "- 코드 스멜 (code smell): 잘못된 코드를 암시하는 신호, 명시적인 오류는 아니지만... 심오한 문제를 일으킬 수 있는 소스 코드들의 특징!\n",
    "    - *eys 주*\n",
    "        - 신비로운(?) 어울리지 않는 변수/함수/클래스/모듈명\n",
    "        - 중복 코드\n",
    "        - 억지로 꾸민듯한 복잡성 (과도한 디자인패턴)\n",
    "        - 간단한 변경인데 산탄총 같이 여러군데에 적용해야하는 수술\n",
    "        - 단위 테스트로는 잡아낼 수 없는 예외\n",
    "        - 보고 있어도 헷갈리는 bool 값\n",
    "        - 너무나도 큰 class \n",
    "        - 부적절한 class의 상속 관계\n",
    "        - 함수의 너무 많은 매개 변수\n",
    "        - 과도한 주석\n",
    "        - 너무 많은 리터럴 문자열 (반성..😥)\n",
    "        - 기타 등등... https://ko.wikipedia.org/wiki/코드_스멜 참조\n",
    "- 그치만 기술 부채의 가장 안 좋은 점은...\n",
    "    - 이것이 **장기적이고 근본적인 문제**라는 것...\n",
    "    - 당장 시끄러운 경고음을 내고 있지는 않지만 언젠가는 깨어나 프로젝트의 돌발 변수가 될 것!\n",
    "- 취약한 코드의 예시: 함수의 파라미터로 mutable한 default value를 사용\n",
    "    - 시한 폭탄을 들고 있는 것과 같다! (나중에 설명)\n",
    "- 정리\n",
    "    - 요구사항이 고정되어 있는 경우는 흔치 않다.\n",
    "    - 요구사항이 변경되면 즉시 소프트웨어를 업데이트해야 한다.\n",
    "    - 클린 코드는 수정 가능한 코드를 만들기 위한 절대적인 요구사항이다."
   ]
  },
  {
   "cell_type": "markdown",
   "id": "31fe7a78",
   "metadata": {},
   "source": [
    "## 예외 상황\n",
    "- 예외가 허용되는 상황도 있지 않을까...요? 👀\n",
    "    - 해커톤 참여\n",
    "    - 일회적 작업을 위한 간단한 스크립트 작성\n",
    "    - 프로그래밍 경진 대회 참여\n",
    "    - 기존에 없던 개념을 검증하기 위한 개발 (PoC?)\n",
    "    - (나중에 버려질) 프로토타입 개발\n",
    "    - (나중에 버려질) 레거시 프로젝트에 (짧은 시간) 작업할 때\n",
    "    - 상식적으로...(???)"
   ]
  },
  {
   "cell_type": "markdown",
   "id": "5c458af0",
   "metadata": {},
   "source": [
    "## 클린 코드에서 코드 포매팅의 역할\n",
    "- 클린 코드 = [PEP-8](http://www.python.org/dev/peps/pep-0008/) 또는 프로젝트 가이드라인을 따르면 되나?\n",
    "    - Nope\n",
    "    - 참고: PEP(Python Enhancement Proposal)-8은 가장 잘 알려진 표준이며 띄어쓰기, 네이밍 컨벤션, 줄 길이 제한 등의 가이드라인을 제공\n",
    "- 충분 조건은 아니지만, 필요 조건!\n",
    "    - 클린 코드는 포매팅 보다는 **유지보수성**이나 **소프트웨어 품질**에 더 가깝지만, 올바른 포매팅은 작업을 효율화하기 위해 중요하다."
   ]
  },
  {
   "cell_type": "markdown",
   "id": "22c1cf8e",
   "metadata": {},
   "source": [
    "## 프로젝트 코딩 스타일 가이드 준수\n",
    "- 코딩 가이드라인은 품질 표준을 지키기 위한 최소한의 요구사항\n",
    "- 가장 필요한 특성: **일관성**\n",
    "    - 가독성이 높아지고 이해하기 쉬워진다\n",
    "    - 팀원들이 일관성을 유지하지 않고 자신만의 방식으로 일을 하면 오류가 발생하기 쉽고 이해하기 어렵고 애매한 부분들이 생길 것\n",
    "    - 모든 멤버가 표준화된 구조를 사용한다면 익숙함 -> 신속하게 패턴 파악 -> 오류 감지가 쉬움\n",
    "- 실험: 다양한 레벨의 체스 선수에게 말의 위치를 기억하도록 했을 때\n",
    "    - 랜덤하게 말이 배치되어 있을 때에는 -> 단순 암기 -> 누구나 비슷함\n",
    "    - 실제 게임에서 발생할 수 있는 패턴을 따랐을 때에는 -> 체스 마스터가 다른 선수들을 압도함\n",
    "    - 마찬가지로, 구조화된 패턴을 가진 코드라면 빠르게 이해할 수 있을 것이다.\n",
    "- 현재 프로젝트가 어떤 코딩 표준도 따르지 않았다면 PEP-8을 따르도록 하자\n",
    "\n",
    "> 💡코딩 표준을 따르지 않은 코드가 많거나, 코드 리뷰 중 코딩 표준에 대한 지적이 많이 나온다면 자동 검증 도구를 개발하는 것도 좋은 생각\n",
    "\n",
    "- PEP-8의 특징\n",
    "    - 검색 효율성: 파일 안에서 원하는 부분, 특정한 기능을 가진 코드를 빠르게 검색할 수 있도록 도와줌\n",
    "        - 예시: 파라미터에 값을 할당하는 곳과 변수에 값을 할당하는 곳 찾기\n",
    "```shell\n",
    "$ grep -nr \"localtion=\" .\n",
    "./core.py:13: location=current_location,\n",
    "```\n",
    "```shell\n",
    "$grep -nr \"location =\" .\n",
    ".core.py:10: current_location = get_location()\n",
    "```\n",
    "    - 일관성: 쉽게 읽을 수 있다. 신규 입사자 교육시 중요하다.\n",
    "    - 더 나은 오류 처리: try/except 블록 내부의 코드를 최소화 해서 예외를 숨기는 것을 방지하자\n",
    "    - 코드 품질: 코드를 구조화하여 살펴보면 버그와 실수를 쉽게 찾을 수 있다. 코드 품질 도구 / 정적 분석 도구를 사용하면 버그를 줄이는 데 도움이 된다."
   ]
  },
  {
   "cell_type": "markdown",
   "id": "6c07a67a",
   "metadata": {},
   "source": [
    "# 문서화\n",
    "- 주석을 추가하는 것과는 다르다!\n",
    "- docstring 과 annotation, 주석에 대해서 살펴보자\n",
    "- annotation은 [mypy](http://mypy-lang.org/)나 [pytype](https://google.github.io/pytype/)과 같은 자동화 도구를 사용할 수 있게 도움을 줌"
   ]
  },
  {
   "cell_type": "markdown",
   "id": "8e802603",
   "metadata": {},
   "source": [
    "## 코드 주석 code comments\n",
    "- **가능한 한 적은 주석을 갖는 것을 목표로 해야 한다.**\n",
    "- **좋은 코드는 코드 자체가 문서화되어 있기 때문이다.**\n",
    "    - 올바른 추상화를 했고,\n",
    "    - 명확하게 이름을 지정했다면,\n",
    "    - 주석이 필요하지 않아야 한다!\n",
    "    - 주석을 추가한다는 것은 코드를 올바르게 작성하지 않았다는 징후\n",
    "    \n",
    "> 💡주석을 작성하기 전에 새로운 함수를 추가하거나 보다 나은 변수명을 사용하는 식으로 개선할 수 있는지 고민!\n",
    "\n",
    "- 주석이 불가피한 경우\n",
    "    - 외부 함수의 문제를 피하기 위해 특정 파라미터를 넘겨야하는 경우, 간결하게 문제가 무엇인지 설명하고 어떻게 해결해야하는지 설명\n",
    "- 어떤 식으로도 정당화하기 어려운 나쁜 주석\n",
    "    - 주석 처리된 코드는 **바.로.삭.제**"
   ]
  },
  {
   "cell_type": "markdown",
   "id": "656969ef",
   "metadata": {},
   "source": [
    "## Docstring\n",
    "- Docstring: 소스 코드에 포함된 문서\n",
    "    - 기본적으로 리터럴 문자열\n",
    "    - 코드의 이유(justification)를 적는 것이 아니라 코드의 설명(explanation)을 적는 것이다. \n",
    "- *eys 주: Docstring의 예*"
   ]
  },
  {
   "cell_type": "code",
   "execution_count": 1,
   "id": "9f36bde3",
   "metadata": {},
   "outputs": [],
   "source": [
    "def sum_a_b(a, b):\n",
    "    \"\"\"\n",
    "    This is a simple function that takes two numbers and returns their sum.\n",
    "    :param a: int. The first number.\n",
    "    :param b: int. The second number.\n",
    "    :return: int. The sum of a and b.\n",
    "    \"\"\"\n",
    "    return a + b"
   ]
  },
  {
   "cell_type": "markdown",
   "id": "fb9d6f1b",
   "metadata": {},
   "source": [
    "- Docsctring는 문서를 제공하기 위한 것\n",
    "    - 내가 작성한 컴포넌트를 다른 엔지니어가 사용하려고 할 때 동작 방식과 입출력 정보 등을 확인할 수 있어야 한다.\n",
    "    - 최대한 docstring을 추가하려고 노력하자\n",
    "- 설계에서의 유용성\n",
    "    - 프로그램 디자인과 아키텍처에 대해 문서화할 수 있다.\n",
    "    - 전체적인 관점에서 어떻게 설계되었는지 힌트를 줄 수 있다.\n",
    "    - 중요한 모듈, 함수 및 클래스에 대해서는 docstring을 추가해주자\n",
    "- 파이썬은 동적인 데이터 타입을 갖는 언어\n",
    "    - 파이썬의 함수는 어떤 데이터 타입도 취할 수 있다. 강요하지도, 확인하지도 않는다.\n",
    "    - Docstring에 예상되는 입출력을 문서화해놓으면 읽는 사람들이 함수의 작동 방식을 예상하는데 도움을 준다."
   ]
  },
  {
   "cell_type": "code",
   "execution_count": 6,
   "id": "ac6d3f5d",
   "metadata": {},
   "outputs": [],
   "source": [
    "dict.update??"
   ]
  },
  {
   "cell_type": "raw",
   "id": "8475448b",
   "metadata": {},
   "source": [
    "Docstring:\n",
    "D.update([E, ]**F) -> None.  Update D from dict/iterable E and F.\n",
    "If E is present and has a .keys() method, then does:  for k in E: D[k] = E[k]\n",
    "If E is present and lacks a .keys() method, then does:  for k, v in E: D[k] = v\n",
    "In either case, this is followed by: for k in F:  D[k] = F[k]\n",
    "Type:      method_descriptor"
   ]
  },
  {
   "cell_type": "markdown",
   "id": "60239ebc",
   "metadata": {},
   "source": [
    "1. 파라미터가 keys() 메서드를 가진 경우\n",
    "```python\n",
    ">>> d = {}\n",
    ">>> d.update({1: \"one\", 2: \"two\"})\n",
    ">>> d\n",
    "{1: 'one', 2: 'two'}\n",
    "```\n",
    "\n",
    "2. 키와 값의 쌍을 가진 이터러블을 전달한 경우\n",
    "```python\n",
    ">>> d.update([(3, \"three\"), (4, \"four\")])\n",
    ">>> d\n",
    "{1: 'one', 2: 'two', 3: 'three', 4: 'four'}\n",
    "```\n",
    "\n",
    "3. 키워드 인자를 가져온 경우\n",
    "```python\n",
    ">>> d.update(five=5)\n",
    ">>> d\n",
    "{1: 'one', 2: 'two', 3: 'three', 4: 'four', 'five': 5}\n",
    "```\n",
    "\n",
    "- 참고: `d.update(5=\"five\")`는 에러가 발생한다. **키워드 인자의 이름은 문자열이어야 함**\n",
    "   "
   ]
  },
  {
   "cell_type": "code",
   "execution_count": 8,
   "id": "e20860c8",
   "metadata": {},
   "outputs": [],
   "source": [
    "sum_a_b?"
   ]
  },
  {
   "cell_type": "code",
   "execution_count": 10,
   "id": "50ba63b6",
   "metadata": {},
   "outputs": [
    {
     "data": {
      "text/plain": [
       "'임의의 계산 수행'"
      ]
     },
     "execution_count": 10,
     "metadata": {},
     "output_type": "execute_result"
    }
   ],
   "source": [
    "def my_function():\n",
    "    \"\"\"임의의 계산 수행\"\"\"\n",
    "    return None\n",
    "\n",
    "my_function.__doc__"
   ]
  },
  {
   "cell_type": "markdown",
   "id": "1ca44b80",
   "metadata": {},
   "source": [
    "- Sphinx\n",
    "    - 프로젝트 문서화를 위한 기본 골격을 만들어주는 도구\n",
    "    - autodoc 익스텐션을 사용하면 코드에서 docstring을 가져와 문서화된 페이지를 만들어준다.\n",
    "- read the docs\n",
    "    - 문서와 프로젝트가 하나가 되도록 Sphinx를 오픈하는 도구\n",
    "\n",
    "- Docstring의 단점\n",
    "    - 지속적으로 수작업을 해야한다.\n",
    "    - 코드가 변경되면 업데이트를 해야한다.\n",
    "    - 정말로 유용하게 사용되려면 여러 줄에 걸쳐 상세하게 작성되어야 한다.\n",
    "    - 자명한 코드라면 차라리 docstring을 피하는 것이 더 나은 선택일 수 있다 -- 나중에 불필요한 유지보수를 피하려면!\n",
    "- 정리\n",
    "    - 문서화에 수작업이 필요한 이유는 결국은 다른 사람이 읽기 때문\n",
    "    - 모든 팀원이 문서화에 노력이 필요하다는 것에 공감해야 한다.\n",
    "    - 소프트웨어는 단순한 코드가 아니라는 것을 이해하자\n",
    "    - 문서는 산출물에 포함: 코드를 변경한 경우 wiki, 매뉴얼, README 파일, docstring 등을 모두 업데이트해야!"
   ]
  },
  {
   "cell_type": "markdown",
   "id": "1a9ebffd",
   "metadata": {},
   "source": [
    "### 어노테이션\n",
    "- PEP-3107에서 소개하고 있음\n",
    "- 기본 아이디어\n",
    "    - 코드 사용자에게 함수 인자로 어떤 값이 와야하는지 **힌트**를 주자\n",
    "- type hinting\n",
    "    - 변수의 예상 타입을 지정할 수 있다.\n",
    "    - 하지만 파이썬이 타입을 검사하거나 강제하지는 않는다."
   ]
  },
  {
   "cell_type": "code",
   "execution_count": 11,
   "id": "09c48ceb",
   "metadata": {},
   "outputs": [],
   "source": [
    "from dataclasses import dataclass\n",
    "\n",
    "@dataclass\n",
    "class Point:\n",
    "    lat: float\n",
    "    long: float\n",
    "\n",
    "def locate(latitude: float, longitude: float) -> Point:\n",
    "    \"\"\"맵에서 좌표에 해당하는 객체를 검색\"\"\"\n",
    "    return Point(latitude, longitude)"
   ]
  },
  {
   "cell_type": "markdown",
   "id": "a3ccb072",
   "metadata": {},
   "source": [
    "- 어노테이션으로 파이썬 인터프리터에서 유효한 어떤 것도 사용할 수 있다\n",
    "    - 변수의 의도를 설명하는 문자열\n",
    "    - 콜백\n",
    "    - 유효성 검사 함수로 사용할 수 있는 callable\n",
    "- 어노테이션을 활용하면 좀 더 표현력 있는 코드를 작성할 수 있다\n",
    "    - 예시 1:\n",
    "        ```python\n",
    "        def launch_task(delay_in_seconds):\n",
    "            ...\n",
    "        ```\n",
    "    - 예시 2:\n",
    "        ```python\n",
    "        Seconds = float\n",
    "        def launch_task(delay: Seconds):\n",
    "            ...\n",
    "        ```\n",
    "    - 두번째 예시가 변수명이 짧은데다가 시간에 대해 작은 추상화를 하고 있다\n",
    "        - 실수값을 받을 수 있군!\n",
    "        - 게다가 나중에 정수형으로 바꾸려고 한다면 한군데만 바꾸면 된다!\n",
    "        \n",
    "- 어노테이션을 사용하면 `__annotations__` 속성이 생긴다\n",
    "    - 이 정보를 이용하여 문서 생성, 유효성 검증, 타입 체크를 할 수 있다"
   ]
  },
  {
   "cell_type": "code",
   "execution_count": 12,
   "id": "687167e6",
   "metadata": {},
   "outputs": [
    {
     "data": {
      "text/plain": [
       "{'latitude': float, 'longitude': float, 'return': __main__.Point}"
      ]
     },
     "execution_count": 12,
     "metadata": {},
     "output_type": "execute_result"
    }
   ],
   "source": [
    "locate.__annotations__"
   ]
  },
  {
   "cell_type": "markdown",
   "id": "e16d5397",
   "metadata": {},
   "source": [
    "- PEP-484에 type hinting의 기본 원리가 정의되어 있다\n",
    "    - \"파이썬은 여전히 동적인 타입의 언어로 남을 것이다. 타입 힌트를 필수로 하자거나 심지어 관습으로 하자는 것은 전혀 아니다.\"\n",
    "- Type hint의 의미\n",
    "    - 데이터 타입이 바르게 사용되었는지 확인하는 도구를 제공하고, 무엇이 잘못되었는지 힌트를 주기 위한 것\n",
    "    - 또한 유의미한 이름을 사용하거나 적절한 데이터 타입 추상화를 도와줄 수 있음\n",
    "        - 예시 1:\n",
    "            ```python\n",
    "def process_clients(clients: list):\n",
    "    ...\n",
    "            ```\n",
    "        - 예시 2:\n",
    "            ```python\n",
    "def process_clients(clients: list[tuple[int, str]]):\n",
    "    ...\n",
    "            ```\n",
    "        - 예시 3:\n",
    "            ```python\n",
    "from typing import Tuple\n",
    "Client = Tuple[int, str]\n",
    "def process_clients(clients: list[Clients]):\n",
    "    ...\n",
    "            ```\n",
    "    - 예시 3이 좀 더 명확하고 진화 가능한 데이터타입!\n",
    "        - 나중에 클래스나 다른 객체로 변경되더라도 기존 어노테이션을 그대로 사용 가능\n",
    "- 취지\n",
    "    - 유의미한 문법 구조를 통해 코드의 의미나 의도를 더욱 쉽게 이해할 수 있도록 하자\n",
    "- 또 다른 이점\n",
    "    - PEP-526, PEP-557를 도입하면 클래스를 보다 간결하게 작성하고 작은 컨테이너 객체를 쉽게 정의할 수 있다\n",
    "    - *eys주*: \n",
    "        - PEP-526: 변수 어노테이션\n",
    "        - PEP-557: 데이터 클래스"
   ]
  },
  {
   "cell_type": "code",
   "execution_count": 13,
   "id": "bf222814",
   "metadata": {},
   "outputs": [],
   "source": [
    "# PEP-526: 변수 어노테이션\n",
    "age: int = 25\n",
    "name: str = \"Alice\"\n",
    "    \n",
    "# 클래스 내에서도 사용 가능\n",
    "class Person:\n",
    "    name: str\n",
    "    age: int\n",
    "\n",
    "    def greet(self) -> None:\n",
    "        greeting: str = \"Hello\"\n",
    "        print(greeting)\n",
    "\n",
    "# PEP-557: 데이터 클래스\n",
    "from dataclasses import dataclass\n",
    "\n",
    "@dataclass\n",
    "class Point:\n",
    "    x: int\n",
    "    y: int"
   ]
  },
  {
   "cell_type": "code",
   "execution_count": 14,
   "id": "a4c96973",
   "metadata": {},
   "outputs": [],
   "source": [
    "# Before\n",
    "class Point:\n",
    "    def __init__(self, lat, long):\n",
    "        self.lat = lat\n",
    "        self.long = long\n",
    "        \n",
    "# after\n",
    "from dataclasses import dataclass\n",
    "@dataclass\n",
    "class Point:\n",
    "    lat: float\n",
    "    long: float"
   ]
  },
  {
   "cell_type": "code",
   "execution_count": 15,
   "id": "5d6ff7f6",
   "metadata": {},
   "outputs": [
    {
     "data": {
      "text/plain": [
       "{'lat': float, 'long': float}"
      ]
     },
     "execution_count": 15,
     "metadata": {},
     "output_type": "execute_result"
    }
   ],
   "source": [
    "Point.__annotations__"
   ]
  },
  {
   "cell_type": "code",
   "execution_count": 16,
   "id": "ddb1d1ff",
   "metadata": {},
   "outputs": [
    {
     "data": {
      "text/plain": [
       "Point(lat=1, long=2)"
      ]
     },
     "execution_count": 16,
     "metadata": {},
     "output_type": "execute_result"
    }
   ],
   "source": [
    "Point(1, 2)"
   ]
  },
  {
   "cell_type": "markdown",
   "id": "5db0f69a",
   "metadata": {},
   "source": [
    "- 예고: 뒷부분에서 어노테이션의 중요한 역할에 대해 논의할 것\n",
    "    - 객체 지향 설계의 모범 사례\n",
    "        - 함수의 호출 규약을 인터페이스에 명시하고 해당 인터페이스에 의존하도록 하는 의존성 주입\n",
    "        - 어노테이션으로 의존성을 주입시켜주는 자동화 도구를 사용할 수도 있음\n",
    "\n",
    "### 어노테이션은 docstring을 대체하는 것일까?\n",
    "- 어노테이션이 없기 전에는 파라미터와 반환 값 등등을 적는 포매팅 컨벤션등도 있었기 때문에... docstring이 필요 없는거 아냐?\n",
    "    - 의미가 있음. 서로 보완적인 개념임!\n",
    "- Docstring의 정보 일부를 어노테이션으로 이동시킬 수 있는 것은 사실이다. 그러나 docstring을 함께 쓰면 더 나은 문서화가 가능하다.\n",
    "    - 동적 데이터 타입과 중첩 데이터 타입의 경우 예상 데이터의 예제를 제공할 수 있다\n",
    "    - 예시\n",
    "        - 아래 함수는 사전 형태의 파라미터를 받아서 사전 형태의 리턴값을 받지만... 자세한 내용은 알 수 없다!"
   ]
  },
  {
   "cell_type": "code",
   "execution_count": 17,
   "id": "a7673c38",
   "metadata": {},
   "outputs": [],
   "source": [
    "def data_from_response(response: dict) -> dict:\n",
    "    if response['status'] != 200:\n",
    "        raise ValueError\n",
    "    return {'data': response['payload']}"
   ]
  },
  {
   "cell_type": "markdown",
   "id": "329da699",
   "metadata": {},
   "source": [
    "- 이 함수는 더 잘 이해할 수 있다."
   ]
  },
  {
   "cell_type": "code",
   "execution_count": 18,
   "id": "7f2589e4",
   "metadata": {},
   "outputs": [],
   "source": [
    "def data_from_response(response: dict) -> dict:\n",
    "    \"\"\"response의 HTTP status가 200이라면 response의 payload를 반환\n",
    "    \n",
    "    - response 사전의 예제::\n",
    "    {\n",
    "        'status': 200, # <int>\n",
    "        'timestamp': '...', # 현재 시간의 ISO 포맷 문자열\n",
    "        'payload': {...} # 반환하려는 사전 데이터\n",
    "    }\n",
    "    \n",
    "    - 반환 사전 값의 예제::\n",
    "    {'data': {...}}\n",
    "    \n",
    "    - 발생 가능한 예외:\n",
    "    - HTTP status가 200이 아닌 경우 ValueError 발생\n",
    "    \"\"\"\n",
    "    if response['status'] != 200:\n",
    "        raise ValueError\n",
    "    return {'data': response['payload']}"
   ]
  },
  {
   "cell_type": "markdown",
   "id": "66c1735f",
   "metadata": {},
   "source": [
    "# 도구 설정\n",
    "- 동료가 작성한 코드를 살펴볼 때 (코드 리뷰) 해야 할 질문\n",
    "    - 이 코드를 동료 개발자가 쉽게 이해하고 따라갈 수 있을까?\n",
    "    - 업무 도메인에 대해서 말하고 있는가?\n",
    "    - 팀에 새로 합류하는 사람도 쉽게 이해하고 효과적으로 작업할 수 있을까?\n",
    "- 이를 위해서 필요한 것\n",
    "    - 코드 포매팅, 일관된 레이아웃, 적절한 들여쓰기, ... 만으로는 충분하지 않다!\n",
    "    - 그러므로 위의 것을 보는 데 시간을 낭비하지 말자\n",
    "- 반복적인 확인 작업을 줄이기 위한 기본 도구 \n",
    "    - CI(Continuous Integration)빌드의 일부분\n",
    "\n",
    "## 데이터 타입 일관성 검사\n",
    "- 어노테이션 기능을 사용하면 흔하게 발생하는 오류를 미리 검출할 수 있어 유용하다\n",
    "- [mypy](https://githup.com/python/mypy)\n",
    "    - 프로젝트에 선택적으로 사용할 수 있는 정적 타입 검증 도구\n",
    "    - 프로젝트에서 사용되는 모든 파일에 대하여 데이터 타입의 유효성을 검사한다\n",
    "    - 대부분 버그를 잘 찾아주지만 때로 잘못 찾아주기도.\n",
    "    - `$ pip install mypy` 후 `mypy 파일명.py` 를 실행. \n",
    "    - 잘못된 탐지인 경우 `type_to_ignore = \"something\" # type: ignore` 이와 같이 라인을 무시하도록 할 수 있다\n",
    "    - 어노테이션을 정확하게 잘 작성해야 유용하게 쓰일 수 있다!"
   ]
  },
  {
   "cell_type": "code",
   "execution_count": 30,
   "id": "382d67ce",
   "metadata": {},
   "outputs": [
    {
     "name": "stderr",
     "output_type": "stream",
     "text": [
      "INFO:__main__:welcome 메시지를 user1@domain.com에게 전달\n",
      "INFO:__main__:welcome 메시지를 user2@domain.com에게 전달\n",
      "INFO:__main__:welcome 메시지를 u에게 전달\n",
      "INFO:__main__:welcome 메시지를 s에게 전달\n",
      "INFO:__main__:welcome 메시지를 e에게 전달\n",
      "INFO:__main__:welcome 메시지를 r에게 전달\n",
      "INFO:__main__:welcome 메시지를 1에게 전달\n",
      "INFO:__main__:welcome 메시지를 @에게 전달\n",
      "INFO:__main__:welcome 메시지를 d에게 전달\n",
      "INFO:__main__:welcome 메시지를 o에게 전달\n",
      "INFO:__main__:welcome 메시지를 m에게 전달\n",
      "INFO:__main__:welcome 메시지를 a에게 전달\n",
      "INFO:__main__:welcome 메시지를 i에게 전달\n",
      "INFO:__main__:welcome 메시지를 n에게 전달\n",
      "INFO:__main__:welcome 메시지를 .에게 전달\n",
      "INFO:__main__:welcome 메시지를 c에게 전달\n",
      "INFO:__main__:welcome 메시지를 o에게 전달\n",
      "INFO:__main__:welcome 메시지를 m에게 전달\n"
     ]
    }
   ],
   "source": [
    "import logging\n",
    "from typing import Iterable\n",
    "\n",
    "\n",
    "logging.basicConfig(level=logging.INFO)\n",
    "logger = logging.getLogger(__name__)\n",
    "\n",
    "\n",
    "def broadcast_notification(\n",
    "    message: str,\n",
    "    relevant_user_emails: Iterable[str]\n",
    "):\n",
    "    for email in relevant_user_emails:\n",
    "        logger.info(f\"{message} 메시지를 {email}에게 전달\")\n",
    "        \n",
    "\n",
    "broadcast_notification(\"welcome\", [\"user1@domain.com\", \"user2@domain.com\"])\n",
    "broadcast_notification(\"welcome\", \"user1@domain.com\")"
   ]
  },
  {
   "cell_type": "code",
   "execution_count": 31,
   "id": "65920665",
   "metadata": {},
   "outputs": [
    {
     "name": "stdout",
     "output_type": "stream",
     "text": [
      "Collecting mypy\n",
      "  Obtaining dependency information for mypy from https://files.pythonhosted.org/packages/50/00/86bb2f6c5b58fc6f360dd4cb5c0666dc67c05007c2cddcc694528a59a604/mypy-1.10.1-cp39-cp39-macosx_10_9_x86_64.whl.metadata\n",
      "  Downloading mypy-1.10.1-cp39-cp39-macosx_10_9_x86_64.whl.metadata (1.9 kB)\n",
      "Requirement already satisfied: typing-extensions>=4.1.0 in /opt/anaconda3/lib/python3.9/site-packages (from mypy) (4.4.0)\n",
      "Collecting mypy-extensions>=1.0.0 (from mypy)\n",
      "  Obtaining dependency information for mypy-extensions>=1.0.0 from https://files.pythonhosted.org/packages/2a/e2/5d3f6ada4297caebe1a2add3b126fe800c96f56dbe5d1988a2cbe0b267aa/mypy_extensions-1.0.0-py3-none-any.whl.metadata\n",
      "  Downloading mypy_extensions-1.0.0-py3-none-any.whl.metadata (1.1 kB)\n",
      "Requirement already satisfied: tomli>=1.1.0 in /opt/anaconda3/lib/python3.9/site-packages (from mypy) (2.0.1)\n",
      "Downloading mypy-1.10.1-cp39-cp39-macosx_10_9_x86_64.whl (10.8 MB)\n",
      "\u001b[2K   \u001b[38;2;114;156;31m━━━━━━━━━━━━━━━━━━━━━━━━━━━━━━━━━━━━━━━━\u001b[0m \u001b[32m10.8/10.8 MB\u001b[0m \u001b[31m21.5 MB/s\u001b[0m eta \u001b[36m0:00:00\u001b[0mm eta \u001b[36m0:00:01\u001b[0m36m0:00:01\u001b[0mm\n",
      "\u001b[?25hUsing cached mypy_extensions-1.0.0-py3-none-any.whl (4.7 kB)\n",
      "\u001b[33mDEPRECATION: pyodbc 4.0.0-unsupported has a non-standard version number. pip 23.3 will enforce this behaviour change. A possible replacement is to upgrade to a newer version of pyodbc or contact the author to suggest that they release a version with a conforming version number. Discussion can be found at https://github.com/pypa/pip/issues/12063\u001b[0m\u001b[33m\n",
      "\u001b[0m\u001b[33mDEPRECATION: pytorch-lightning 1.8.3.post0 has a non-standard dependency specifier torch>=1.9.*. pip 23.3 will enforce this behaviour change. A possible replacement is to upgrade to a newer version of pytorch-lightning or contact the author to suggest that they release a version with a conforming dependency specifiers. Discussion can be found at https://github.com/pypa/pip/issues/12063\u001b[0m\u001b[33m\n",
      "\u001b[0mInstalling collected packages: mypy-extensions, mypy\n",
      "  Attempting uninstall: mypy-extensions\n",
      "    Found existing installation: mypy-extensions 0.4.3\n",
      "    Uninstalling mypy-extensions-0.4.3:\n",
      "      Successfully uninstalled mypy-extensions-0.4.3\n",
      "Successfully installed mypy-1.10.1 mypy-extensions-1.0.0\n"
     ]
    }
   ],
   "source": [
    "!pip install mypy"
   ]
  },
  {
   "cell_type": "code",
   "execution_count": null,
   "id": "1abb6614",
   "metadata": {},
   "outputs": [],
   "source": [
    "# %load type_hinting_example.py\n",
    "import logging\n",
    "from typing import Union, List, Tuple\n",
    "\n",
    "\n",
    "logging.basicConfig(level=logging.INFO)\n",
    "logger = logging.getLogger(__name__)\n",
    "\n",
    "\n",
    "def broadcast_notification(\n",
    "    message: str,\n",
    "    relevant_user_emails: Union[List[str], Tuple[str]]\n",
    "):\n",
    "    for email in relevant_user_emails:\n",
    "        logger.info(f\"{message} 메시지를 {email}에게 전달\")\n",
    "        \n",
    "\n",
    "broadcast_notification(\"welcome\", [\"user1@domain.com\", \"user2@domain.com\"])\n",
    "broadcast_notification(\"welcome\", \"user1@domain.com\")"
   ]
  },
  {
   "cell_type": "code",
   "execution_count": 38,
   "id": "5c853fe0",
   "metadata": {},
   "outputs": [
    {
     "name": "stdout",
     "output_type": "stream",
     "text": [
      "type_hinting_example.py:18: \u001b[1m\u001b[31merror:\u001b[m Argument 2 to \u001b[m\u001b[1m\"broadcast_notification\"\u001b[m has incompatible type \u001b[m\u001b[1m\"str\"\u001b[m; expected \u001b[m\u001b[1m\"Union[list[str], tuple[str]]\"\u001b[m  \u001b[m\u001b[33m[arg-type]\u001b[m\r\n",
      "\u001b[1m\u001b[31mFound 1 error in 1 file (checked 1 source file)\u001b[m\r\n"
     ]
    }
   ],
   "source": [
    "!mypy type_hinting_example.py"
   ]
  },
  {
   "cell_type": "code",
   "execution_count": 35,
   "id": "13c93949",
   "metadata": {},
   "outputs": [
    {
     "name": "stdout",
     "output_type": "stream",
     "text": [
      "Collecting pytype\n",
      "  Downloading pytype-2024.4.11.tar.gz (2.9 MB)\n",
      "\u001b[2K     \u001b[38;2;114;156;31m━━━━━━━━━━━━━━━━━━━━━━━━━━━━━━━━━━━━━━━━\u001b[0m \u001b[32m2.9/2.9 MB\u001b[0m \u001b[31m31.7 MB/s\u001b[0m eta \u001b[36m0:00:00\u001b[0mm eta \u001b[36m0:00:01\u001b[0m[36m0:00:01\u001b[0m\n",
      "\u001b[?25h  Installing build dependencies ... \u001b[?25ldone\n",
      "\u001b[?25h  Getting requirements to build wheel ... \u001b[?25ldone\n",
      "\u001b[?25h  Preparing metadata (pyproject.toml) ... \u001b[?25ldone\n",
      "\u001b[?25hCollecting attrs>=21.4.0 (from pytype)\n",
      "  Obtaining dependency information for attrs>=21.4.0 from https://files.pythonhosted.org/packages/e0/44/827b2a91a5816512fcaf3cc4ebc465ccd5d598c45cefa6703fcf4a79018f/attrs-23.2.0-py3-none-any.whl.metadata\n",
      "  Downloading attrs-23.2.0-py3-none-any.whl.metadata (9.5 kB)\n",
      "Collecting importlab>=0.8 (from pytype)\n",
      "  Obtaining dependency information for importlab>=0.8 from https://files.pythonhosted.org/packages/da/1e/cc7360b4259f283b1a2de153335ce15ac9e710d66145aa471cffefe4b394/importlab-0.8.1-py2.py3-none-any.whl.metadata\n",
      "  Downloading importlab-0.8.1-py2.py3-none-any.whl.metadata (2.4 kB)\n",
      "Collecting immutabledict>=4.1.0 (from pytype)\n",
      "  Obtaining dependency information for immutabledict>=4.1.0 from https://files.pythonhosted.org/packages/e2/13/3cf4ac5b3403f3456e645c4533883ef67b1bb0c72e56b79c707715f57a74/immutabledict-4.2.0-py3-none-any.whl.metadata\n",
      "  Downloading immutabledict-4.2.0-py3-none-any.whl.metadata (3.4 kB)\n",
      "Collecting jinja2>=3.1.2 (from pytype)\n",
      "  Obtaining dependency information for jinja2>=3.1.2 from https://files.pythonhosted.org/packages/31/80/3a54838c3fb461f6fec263ebf3a3a41771bd05190238de3486aae8540c36/jinja2-3.1.4-py3-none-any.whl.metadata\n",
      "  Downloading jinja2-3.1.4-py3-none-any.whl.metadata (2.6 kB)\n",
      "Collecting libcst>=1.0.1 (from pytype)\n",
      "  Obtaining dependency information for libcst>=1.0.1 from https://files.pythonhosted.org/packages/7b/b1/8476fe4fa1061062855459d519ffe2115a891638c230ee3465c69fdbfd7a/libcst-1.4.0-cp39-cp39-macosx_10_9_x86_64.whl.metadata\n",
      "  Downloading libcst-1.4.0-cp39-cp39-macosx_10_9_x86_64.whl.metadata (17 kB)\n",
      "Collecting msgspec>=0.18.6 (from pytype)\n",
      "  Obtaining dependency information for msgspec>=0.18.6 from https://files.pythonhosted.org/packages/cc/01/54e711813b04a668cbc6467e20ea747aec1aaf2c9afd83ed470d774d22d0/msgspec-0.18.6-cp39-cp39-macosx_10_9_x86_64.whl.metadata\n",
      "  Downloading msgspec-0.18.6-cp39-cp39-macosx_10_9_x86_64.whl.metadata (6.9 kB)\n",
      "Requirement already satisfied: networkx<3.2 in /opt/anaconda3/lib/python3.9/site-packages (from pytype) (2.6.3)\n",
      "Collecting ninja>=1.10.0.post2 (from pytype)\n",
      "  Obtaining dependency information for ninja>=1.10.0.post2 from https://files.pythonhosted.org/packages/3d/6e/04ed11bb244039908f6f212cb5f3e97933e238655248e4ce307c1687ba1f/ninja-1.11.1.1-py2.py3-none-macosx_10_9_universal2.macosx_10_9_x86_64.macosx_11_0_arm64.macosx_11_0_universal2.whl.metadata\n",
      "  Using cached ninja-1.11.1.1-py2.py3-none-macosx_10_9_universal2.macosx_10_9_x86_64.macosx_11_0_arm64.macosx_11_0_universal2.whl.metadata (5.3 kB)\n",
      "Collecting pycnite>=2023.10.11 (from pytype)\n",
      "  Obtaining dependency information for pycnite>=2023.10.11 from https://files.pythonhosted.org/packages/ac/a6/c22c0d2821f691d2c554bc4358d0065f66c911078fd360da2c4c4db64d12/pycnite-2024.7.9-py3-none-any.whl.metadata\n",
      "  Downloading pycnite-2024.7.9-py3-none-any.whl.metadata (1.3 kB)\n",
      "Collecting pydot>=1.4.2 (from pytype)\n",
      "  Obtaining dependency information for pydot>=1.4.2 from https://files.pythonhosted.org/packages/7f/90/c9b51f3cdff89cd8f93382060330f43d1af098a6624cff439e700791e922/pydot-2.0.0-py3-none-any.whl.metadata\n",
      "  Downloading pydot-2.0.0-py3-none-any.whl.metadata (9.6 kB)\n",
      "Requirement already satisfied: tabulate>=0.8.10 in /opt/anaconda3/lib/python3.9/site-packages (from pytype) (0.8.10)\n",
      "Requirement already satisfied: toml>=0.10.2 in /opt/anaconda3/lib/python3.9/site-packages (from pytype) (0.10.2)\n",
      "Requirement already satisfied: typing-extensions>=4.3.0 in /opt/anaconda3/lib/python3.9/site-packages (from pytype) (4.4.0)\n",
      "Collecting MarkupSafe>=2.0 (from jinja2>=3.1.2->pytype)\n",
      "  Obtaining dependency information for MarkupSafe>=2.0 from https://files.pythonhosted.org/packages/6c/77/d77701bbef72892affe060cdacb7a2ed7fd68dae3b477a8642f15ad3b132/MarkupSafe-2.1.5-cp39-cp39-macosx_10_9_x86_64.whl.metadata\n",
      "  Downloading MarkupSafe-2.1.5-cp39-cp39-macosx_10_9_x86_64.whl.metadata (3.0 kB)\n",
      "Requirement already satisfied: pyyaml>=5.2 in /opt/anaconda3/lib/python3.9/site-packages (from libcst>=1.0.1->pytype) (6.0)\n",
      "Requirement already satisfied: pyparsing>=3 in /opt/anaconda3/lib/python3.9/site-packages (from pydot>=1.4.2->pytype) (3.0.4)\n",
      "Downloading attrs-23.2.0-py3-none-any.whl (60 kB)\n",
      "\u001b[2K   \u001b[38;2;114;156;31m━━━━━━━━━━━━━━━━━━━━━━━━━━━━━━━━━━━━━━━━\u001b[0m \u001b[32m60.8/60.8 kB\u001b[0m \u001b[31m9.3 MB/s\u001b[0m eta \u001b[36m0:00:00\u001b[0m\n",
      "\u001b[?25hDownloading immutabledict-4.2.0-py3-none-any.whl (4.7 kB)\n",
      "Downloading importlab-0.8.1-py2.py3-none-any.whl (21 kB)\n",
      "Downloading jinja2-3.1.4-py3-none-any.whl (133 kB)\n",
      "\u001b[2K   \u001b[38;2;114;156;31m━━━━━━━━━━━━━━━━━━━━━━━━━━━━━━━━━━━━━━━━\u001b[0m \u001b[32m133.3/133.3 kB\u001b[0m \u001b[31m17.7 MB/s\u001b[0m eta \u001b[36m0:00:00\u001b[0m\n",
      "\u001b[?25hDownloading libcst-1.4.0-cp39-cp39-macosx_10_9_x86_64.whl (2.1 MB)\n",
      "\u001b[2K   \u001b[38;2;114;156;31m━━━━━━━━━━━━━━━━━━━━━━━━━━━━━━━━━━━━━━━━\u001b[0m \u001b[32m2.1/2.1 MB\u001b[0m \u001b[31m55.3 MB/s\u001b[0m eta \u001b[36m0:00:00\u001b[0mm eta \u001b[36m0:00:01\u001b[0m\n",
      "\u001b[?25hDownloading msgspec-0.18.6-cp39-cp39-macosx_10_9_x86_64.whl (202 kB)\n",
      "\u001b[2K   \u001b[38;2;114;156;31m━━━━━━━━━━━━━━━━━━━━━━━━━━━━━━━━━━━━━━━━\u001b[0m \u001b[32m202.5/202.5 kB\u001b[0m \u001b[31m12.4 MB/s\u001b[0m eta \u001b[36m0:00:00\u001b[0m\n",
      "\u001b[?25hUsing cached ninja-1.11.1.1-py2.py3-none-macosx_10_9_universal2.macosx_10_9_x86_64.macosx_11_0_arm64.macosx_11_0_universal2.whl (270 kB)\n",
      "Downloading pycnite-2024.7.9-py3-none-any.whl (22 kB)\n",
      "Downloading pydot-2.0.0-py3-none-any.whl (22 kB)\n",
      "Downloading MarkupSafe-2.1.5-cp39-cp39-macosx_10_9_x86_64.whl (14 kB)\n",
      "Building wheels for collected packages: pytype\n",
      "  Building wheel for pytype (pyproject.toml) ... \u001b[?25ldone\n",
      "\u001b[?25h  Created wheel for pytype: filename=pytype-2024.4.11-cp39-cp39-macosx_10_9_x86_64.whl size=4508626 sha256=0bd5ac296adc3ce6541768cf583109bef9b681de08bd82b416e22c6f752e7a00\n",
      "  Stored in directory: /Users/eyshin/Library/Caches/pip/wheels/09/c5/e8/41cd93da22280f6360a2cb2b8887c02776c0461b42bbfd1f80\n",
      "Successfully built pytype\n",
      "\u001b[33mDEPRECATION: pyodbc 4.0.0-unsupported has a non-standard version number. pip 23.3 will enforce this behaviour change. A possible replacement is to upgrade to a newer version of pyodbc or contact the author to suggest that they release a version with a conforming version number. Discussion can be found at https://github.com/pypa/pip/issues/12063\u001b[0m\u001b[33m\n",
      "\u001b[0m\u001b[33mDEPRECATION: pytorch-lightning 1.8.3.post0 has a non-standard dependency specifier torch>=1.9.*. pip 23.3 will enforce this behaviour change. A possible replacement is to upgrade to a newer version of pytorch-lightning or contact the author to suggest that they release a version with a conforming dependency specifiers. Discussion can be found at https://github.com/pypa/pip/issues/12063\u001b[0m\u001b[33m\n",
      "\u001b[0mInstalling collected packages: ninja, pydot, pycnite, msgspec, MarkupSafe, libcst, importlab, immutabledict, attrs, jinja2, pytype\n",
      "  Attempting uninstall: MarkupSafe\n",
      "    Found existing installation: MarkupSafe 1.1.1\n",
      "    Uninstalling MarkupSafe-1.1.1:\n",
      "      Successfully uninstalled MarkupSafe-1.1.1\n",
      "  Attempting uninstall: attrs\n",
      "    Found existing installation: attrs 21.2.0\n",
      "    Uninstalling attrs-21.2.0:\n",
      "      Successfully uninstalled attrs-21.2.0\n",
      "  Attempting uninstall: jinja2\n",
      "    Found existing installation: Jinja2 2.11.3\n",
      "    Uninstalling Jinja2-2.11.3:\n",
      "      Successfully uninstalled Jinja2-2.11.3\n",
      "\u001b[31mERROR: pip's dependency resolver does not currently take into account all the packages that are installed. This behaviour is the source of the following dependency conflicts.\n",
      "anaconda-project 0.10.1 requires ruamel-yaml, which is not installed.\n",
      "spyder 5.1.5 requires pyqt5<5.13, which is not installed.\n",
      "spyder 5.1.5 requires pyqtwebengine<5.13, which is not installed.\n",
      "cookiecutter 1.7.2 requires Jinja2<3.0.0, but you have jinja2 3.1.4 which is incompatible.\n",
      "cookiecutter 1.7.2 requires MarkupSafe<2.0.0, but you have markupsafe 2.1.5 which is incompatible.\u001b[0m\u001b[31m\n",
      "\u001b[0mSuccessfully installed MarkupSafe-2.1.5 attrs-23.2.0 immutabledict-4.2.0 importlab-0.8.1 jinja2-3.1.4 libcst-1.4.0 msgspec-0.18.6 ninja-1.11.1.1 pycnite-2024.7.9 pydot-2.0.0 pytype-2024.4.11\n"
     ]
    }
   ],
   "source": [
    "!pip install pytype"
   ]
  },
  {
   "cell_type": "code",
   "execution_count": 39,
   "id": "75831608",
   "metadata": {},
   "outputs": [
    {
     "name": "stdout",
     "output_type": "stream",
     "text": [
      "Computing dependencies\n",
      "Analyzing 1 sources with 0 local dependencies\n",
      "ninja: Entering directory `.pytype'\n",
      "[1/1] check type_hinting_example\u001b[K\n",
      "\u001b[31mFAILED: \u001b[0m/Users/eyshin/Documents/Personal/Study/.pytype/pyi/type_hinting_example.pyi \n",
      "/opt/anaconda3/bin/python -m pytype.main --imports_info /Users/eyshin/Documents/Personal/Study/.pytype/imports/type_hinting_example.imports --module-name type_hinting_example --platform darwin -V 3.9 -o /Users/eyshin/Documents/Personal/Study/.pytype/pyi/type_hinting_example.pyi --analyze-annotated --nofail --quick /Users/eyshin/Documents/Personal/Study/type_hinting_example.py\n",
      "File \"/Users/eyshin/Documents/Personal/Study/type_hinting_example.py\", line 18, in <module>: Function broadcast_notification was called with the wrong arguments [wrong-arg-types]\n",
      "         Expected: (message, relevant_user_emails: Union[List[str], Tuple[str]])\n",
      "  Actually passed: (message, relevant_user_emails: str)\n",
      "\n",
      "For more details, see https://google.github.io/pytype/errors.html#wrong-arg-types\n",
      "ninja: build stopped: subcommand failed.\n",
      "Leaving directory '.pytype'\n"
     ]
    }
   ],
   "source": [
    "!pytype type_hinting_example.py"
   ]
  },
  {
   "cell_type": "markdown",
   "id": "0c297dd2",
   "metadata": {},
   "source": [
    "- mypy와 pytype의 한가지 차이점은 오류를 확인하는 시점\n",
    "    - pytype은 일시적으로 지정된 데이터 타입과 다른 타입을 사용하여도 최종 결과가 선언된 유형을 준수하면 괜찮음"
   ]
  },
  {
   "cell_type": "code",
   "execution_count": 41,
   "id": "4725c183",
   "metadata": {},
   "outputs": [],
   "source": [
    "from typing import List\n",
    "\n",
    "def get_list() -> List[str]:\n",
    "    lst = ['PyCon']\n",
    "    lst.append(2022) # mypy에서는 오류, pytype에서는 허용\n",
    "    return [str(x) for x in lst]"
   ]
  },
  {
   "cell_type": "markdown",
   "id": "2d4c0cfb",
   "metadata": {},
   "source": [
    "## 일반적인 코드 검증\n",
    "- pycodestyle, flake8\n",
    "    - 보다 일반적인 유형의 품질 검사 가능\n",
    "    - 설정 가능한 구조\n",
    "    - 제공하는 커맨드라인 명령어 사용하여 쉽게 실행 가능\n",
    "    - 여러 파이썬 파일에 대하여 실행할 수 있음\n",
    "- pylint\n",
    "    - 가장 엄격한 수준의 검증을 하는 도구\n",
    "    - 모든 메서드, 클래스, 모듈에 docstring을 넣도록 강제\n",
    "    - 너무 많은 파라미터를 사용하는 함수에 대하여 불평(?)을 함\n",
    "    - `pylintrc` 설정 파일이 있어 개별적인 규칙에 대하여 활성/비활성 여부 결정할 수 있으며, 각 규칙의 변수 값 (한 라인에서 허용 가능한 최대 길이 등)을 설정할 수도 있음\n",
    "        - docstring을 모든 함수에 있는지 검사하고 싶지 않은 경우\n",
    "            ```\n",
    "            [DESIGN]\n",
    "            disable=missing-function-docstring\n",
    "            ```\n",
    "\n",
    "> 💡개발 팀에서 합의한 코딩 표준을 문서화하고, 해당 표준이 자동으로 실행되는 도구의 설정파일에 포함되도록 하자\n",
    "\n",
    "- Coala\n",
    "    - 파이썬 뿐만 아니라 다른 여러 언어 지원\n",
    "    - 마찬가지로 설정 파일이 있고, 커맨드 라인 도구가 있음\n",
    "    - 가능한 경우 자동으로 수정 가능한 코드도 제안\n",
    "\n",
    "- pylint와 Coala는 확장 가능!\n",
    "    - 빈번히 발생하는 오류에 취약한 코드가 있다면 나만의 규칙을 정의하는데 시간을 투자해보자\n",
    "    - pylint의 경우 여러 플러그인을 제공하며 직접 플러그인을 만들 수도 있다.\n",
    "    - Coala의 경우 실행 가능한 검증 모듈을 직접 만들 수 있다.\n",
    "    \n",
    "## 자동 포매팅\n",
    "- flake8\n",
    "    - 자동으로 PEP-8 표준을 준수하는 코드로 변환하는 기능도 있음\n",
    "- black\n",
    "    - 설정 가능하고 유연함을 가진 도구와 정반대되는 개념을 가진 도구\n",
    "    - 라인 길이 제외와 같은 옵션을 허용하지 않음\n",
    "    - 따옴표는 항상 큰 따옴표만 사용해야 함\n",
    "    - 파라미터의 순서는 항상 동일한 구조를 따라야 함\n",
    "    - 엄격하지만, 코드의 차이를 최소화하여 **실제 변경사항이 있는 경우에만 Pull Request가 생성**되게 한다\n",
    "- 아래 예시: PEP-8은 준수하지만 black의 규칙은 따르지 않음"
   ]
  },
  {
   "cell_type": "code",
   "execution_count": 46,
   "id": "6d81a8af",
   "metadata": {},
   "outputs": [
    {
     "name": "stdout",
     "output_type": "stream",
     "text": [
      "Requirement already satisfied: black in /opt/anaconda3/lib/python3.9/site-packages (19.10b0)\n",
      "Requirement already satisfied: click>=6.5 in /opt/anaconda3/lib/python3.9/site-packages (from black) (8.0.3)\n",
      "Requirement already satisfied: attrs>=18.1.0 in /opt/anaconda3/lib/python3.9/site-packages (from black) (23.2.0)\n",
      "Requirement already satisfied: appdirs in /opt/anaconda3/lib/python3.9/site-packages (from black) (1.4.4)\n",
      "Requirement already satisfied: toml>=0.9.4 in /opt/anaconda3/lib/python3.9/site-packages (from black) (0.10.2)\n",
      "Requirement already satisfied: typed-ast>=1.4.0 in /opt/anaconda3/lib/python3.9/site-packages (from black) (1.4.3)\n",
      "Requirement already satisfied: regex in /opt/anaconda3/lib/python3.9/site-packages (from black) (2021.8.3)\n",
      "Requirement already satisfied: pathspec<1,>=0.6 in /opt/anaconda3/lib/python3.9/site-packages (from black) (0.7.0)\n",
      "\u001b[33mDEPRECATION: pyodbc 4.0.0-unsupported has a non-standard version number. pip 23.3 will enforce this behaviour change. A possible replacement is to upgrade to a newer version of pyodbc or contact the author to suggest that they release a version with a conforming version number. Discussion can be found at https://github.com/pypa/pip/issues/12063\u001b[0m\u001b[33m\n",
      "\u001b[0m\u001b[33mDEPRECATION: pytorch-lightning 1.8.3.post0 has a non-standard dependency specifier torch>=1.9.*. pip 23.3 will enforce this behaviour change. A possible replacement is to upgrade to a newer version of pytorch-lightning or contact the author to suggest that they release a version with a conforming dependency specifiers. Discussion can be found at https://github.com/pypa/pip/issues/12063\u001b[0m\u001b[33m\n",
      "\u001b[0m"
     ]
    }
   ],
   "source": [
    "!pip install black"
   ]
  },
  {
   "cell_type": "code",
   "execution_count": 49,
   "id": "f24a1d77",
   "metadata": {},
   "outputs": [],
   "source": [
    "# %load black_test.py\n",
    "def my_function(name):\n",
    "    \"\"\"\n",
    "    >>> my_function('black')\n",
    "    'received Black'\n",
    "    \"\"\"\n",
    "    return 'received {0}'.format(name.title())"
   ]
  },
  {
   "cell_type": "code",
   "execution_count": 50,
   "id": "31c2cc26",
   "metadata": {},
   "outputs": [
    {
     "name": "stdout",
     "output_type": "stream",
     "text": [
      "\u001b[1mreformatted black_test.py\u001b[0m\r\n",
      "\u001b[1mAll done! ✨ 🍰 ✨\u001b[0m\r\n",
      "\u001b[1m1 file reformatted\u001b[0m.\u001b[0m\r\n"
     ]
    }
   ],
   "source": [
    "!black -l 79 black_test.py"
   ]
  },
  {
   "cell_type": "code",
   "execution_count": 52,
   "id": "3008c209",
   "metadata": {},
   "outputs": [],
   "source": [
    "# %load black_test.py\n",
    "def my_function(name):\n",
    "    \"\"\"\n",
    "    >>> my_function('black')\n",
    "    'received Black'\n",
    "    \"\"\"\n",
    "    return \"received {0}\".format(name.title())"
   ]
  },
  {
   "cell_type": "markdown",
   "id": "0108ca47",
   "metadata": {},
   "source": [
    "- Golang에는 fmt 라는 라이브러리가 있는데 이게 비슷한 역할을 하는듯\n",
    "- black 에서 `--check` 옵션을 주면 표준을 준수하는지 검사만 하고 실제 변경은 하지 않는다\n",
    "    - CI 프로세스에 통합하여 유용하게 사용 가능\n",
    "- black은 이미 다른 스타일의 코드가 적용된 기존 프로젝트에는 문제가 될 수 있다. 두 가지 시나리오를 생각할 수 있는데...\n",
    "    1. 기존 파일들을 black으로 포매팅한 마일스톤(새로운 버전 업)을 생성한다.\n",
    "        - 이 작업은 코드의 실제 기능 변화 없이도 파일의 내용이 많이 변경되므로, Git의 변경 이력(log)에 많은 변경사항이 추가됨. 이를 \"노이즈를 추가한다\"고 표현.\n",
    "        - 또한, 포맷팅으로 인해 파일의 많은 부분이 변경되면 이전의 변경 히스토리를 추적하기 어려워질 수 있음. 이를 \"기존 히스토리를 오염시킨다\"고 표현.\n",
    "        - 팀에서 git 히스토리에 의존하고 있으면 위험한 결정이 될 수 있음\n",
    "    2. black이 적용된 버전으로 히스토리를 덮어쓰기를 할 수 있음\n",
    "        - git에는 각각의 커밋에 몇 가지 명령을 적용하여 이력을 다시 작성하는 기능이 있음\n",
    "        - 이렇게 하면 프로젝트가 처음부터 새로운 포맷으로 잘 작성된 것으로 보이지만...\n",
    "        - 프로젝트의 기록이 다시 작성되었으므로 모든 사람이 저장소의 로컬 복사본을 새로고침해야함\n",
    "        - 저장소의 히스토리가 많을 경우 시간이 오래 걸릴 수 있음.\n",
    "- yapf\n",
    "    - black과 비슷하지만 사용자 정의가 가능\n",
    "    - 코드의 일부분만 포매팅하는것도 가능\n",
    "        - 줄의 범위를 지정할 수 있음\n",
    "- 정리\n",
    "    - 코드 포맷 자동화 도구는 코드를 표준화 하는 도구들\n",
    "    - 새로운 프로젝트라면 꼭 써볼 것\n",
    "    - 레거시 프로젝트라서 채택하는게 번거롭다면 black보다는 yapf를 쓰는 것이 적합할지도"
   ]
  },
  {
   "cell_type": "markdown",
   "id": "f6340a00",
   "metadata": {},
   "source": [
    "## 자동 검사 설정\n",
    "- Makefile\n",
    "    - 프로젝트를 컴파일하고 실행하기 위한 설정을 도와주는 강력한 도구\n",
    "    - 빌드 외에도 포매팅 검사나 코딩 컨벤션 검사를 자동화하기 위해 사용할 수 있음\n",
    "    - 주의: 들여쓰기는 탭!"
   ]
  },
  {
   "cell_type": "raw",
   "id": "e65137a6",
   "metadata": {},
   "source": [
    ".PHONY: typehint\n",
    "typehint:\n",
    "\tmypy --ignore-missing-imports src/\n",
    "\n",
    ".PHONY: test\n",
    "test:\n",
    "\tpytest tests/\n",
    "    \n",
    ".PHONY: lint\n",
    "lint:\n",
    "\tpylint src/\n",
    "    \n",
    ".PHONY: checklist\n",
    "checklist: \n",
    "\tlint typehint test\n",
    "\n",
    ".PHONY: black\n",
    "black:\n",
    "\tblack -l 79 *.py\n",
    "    \n",
    ".PHONY: clean\n",
    "clean:\n",
    "\tfine . -type f -name \"*.pyc\" | xargs rm -fr\n",
    "\tfind . -type d -name __pycache__ | xargs rm -fr"
   ]
  },
  {
   "cell_type": "markdown",
   "id": "09430c17",
   "metadata": {},
   "source": [
    "- 아래 코드로 위의 체크리스트를 실행할 수 있다.\n",
    "```shell\n",
    "make checklist\n",
    "```\n",
    "- 단계\n",
    "    1. PEP-8이나 black의 --check 파라미터를 사용해 코딩 가이드라인을 잘 지키고 있는지 확인\n",
    "    2. 올바른 타입을 사용했는지 검사\n",
    "    3. 최종적으로 테스트 실행\n",
    "    - 하나라도 실패하면 전체 프로세스가 실패한다.\n",
    "- 위 도구들을 IDE에 연결하면 보다 편리하게 사용할 수 있다\n",
    "    - 파일을 저장하거나 수정할때마다 자동으로 검사 실행하도록 설정\n",
    "- Makefile의 편리한 점\n",
    "    - 반복적인 작업을 간단하게 표준화 할 수 있다\n",
    "        - 새로운 구성원이 와도 `make format`이라는 간단한 명령어를 사용하면 된다\n",
    "        - 나중에 yapf 대신 black을 쓰더라도 `make format`이라는 명령어는 바뀌지 않는다\n",
    "    - Makefile은 여러 작업을 한꺼번에 실행하는 표준화된 방법\n",
    "        - CI 도구에서 Makefile 명령어를 호출하고, Makefile 안에서 실제 작업을 실행\n",
    "        - 결과적으로 CI 도구에서는 가능한 한 적은 설정 옵션을 갖게 됨\n",
    "        - 세부적인 부분이 변경되어도 큰 부담이 없다"
   ]
  },
  {
   "cell_type": "markdown",
   "id": "1c71bc6e",
   "metadata": {},
   "source": [
    "# 요약\n",
    "- 클린 코드는 코드의 구조나 레이아웃 보다 훨씬 중요한 것\n",
    "    - 기술부채를 최소화하고 가독성과 유지보수성 그리고 타인의 이해도를 높이는 효과적인 코드의 작성 방법에 관한 것\n",
    "- 코딩 스타일, 가이드라인 준수 역시 중요\n",
    "    - 최소한의 요구 사항!"
   ]
  },
  {
   "cell_type": "code",
   "execution_count": null,
   "id": "665059c5",
   "metadata": {},
   "outputs": [],
   "source": []
  }
 ],
 "metadata": {
  "kernelspec": {
   "display_name": "visualization",
   "language": "python",
   "name": "visualization"
  },
  "language_info": {
   "codemirror_mode": {
    "name": "ipython",
    "version": 3
   },
   "file_extension": ".py",
   "mimetype": "text/x-python",
   "name": "python",
   "nbconvert_exporter": "python",
   "pygments_lexer": "ipython3",
   "version": "3.9.15"
  }
 },
 "nbformat": 4,
 "nbformat_minor": 5
}
