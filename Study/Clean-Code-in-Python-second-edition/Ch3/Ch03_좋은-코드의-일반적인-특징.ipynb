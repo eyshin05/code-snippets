{
 "cells": [
  {
   "cell_type": "markdown",
   "metadata": {},
   "source": [
    "- 궁극적인 목표는 보다 견고하고 결함이 없는 코드를 만드는 것\n",
    "- 좀 더 높은 수준의 추상화를 할 수 있도록 도와주는 디자인 원칙을 알아보자\n",
    "- 이번 장의 목표\n",
    "    - 견고한 소프트웨어의 개념을 이해\n",
    "    - 작업 중 잘못된 데이터를 다루는 방법\n",
    "    - 새로운 요구 사항을 쉽게 받아들이고 확장할 수 있는 유지보수가 쉬운 소프트웨어 설계\n",
    "    - 재사용 가능한 소프트웨어 설계\n",
    "    - 개발팀의 생산성을 높이는 효율적인 코드 작성"
   ]
  },
  {
   "cell_type": "markdown",
   "metadata": {},
   "source": [
    "# 계약에 의한 디자인\n",
    "- 캡슐화\n",
    "    - 컴포넌트는 기능을 숨기고 클라이언트에게 API를 노출해야 한다\n",
    "    - 함수, 클래스, 메서드는 특별한 유의사항에 따라 동작해야 하며, 그렇지 않을 경우 코드가 깨지게 된다.\n",
    "- 클라이언트는 기대에 따라 행동\n",
    "    - 클라이언트가 잘못 파라미터를 호출하면 실행이 되면 안된다\n",
    "    - 조용히 오류를 지나치면 안된다\n",
    "- 계약\n",
    "    - API를 디자인할때 예상되는 입출력과 부작용을 문서화해야 하지만, 런타임 시의 소프트웨어 동작까지 강제할 수는 없다.\n",
    "    - 코드가 정상적으로 동작하기 위해 필요한 것과 클라이언트가 반환받게 될 형태는 모두 디자인에 포함이 되어야 한다\n",
    "- 계약에 의한 디자인\n",
    "    - 양측이 동의하는 계약을 먼저 한다\n",
    "    - 계약을 어긴 경우 명시적으로 예외를 발생시킨다\n",
    "    - 오류를 쉽게 찾아낼 수 있고, 잘못된 가정 하에 코드의 핵심 부분이 실행되는 것을 방지할 수 있다. \n",
    "    - 사전 조건 (precondition)\n",
    "        - 코드가 실행되기 전에 체크해야 하는 것들\n",
    "        - 함수가 진행되기 전에 조건을 체크\n",
    "        - 데이터의 유효성 검사를 많이 하자 (데이터베이스, 파일, 이전에 호출된 다른 메서드도 검사!)\n",
    "    - 사후 조건 (postcondition)\n",
    "        - 함수 반환값의 유효성 검사\n",
    "        - 컴포넌트가 기대한 것을 제대로 받았는지 확인하기 위해 수행\n",
    "    - 불변식 (invariant)\n",
    "        - 함수가 실행되는 동안에 일정하게 유지되는 것으로 함수의 로직에 문제가 없는지 확인하기 위한 것\n",
    "    - 부작용 (side-effect)\n",
    "        - 선택적으로 부작용을 docstring에 언급할 수 있다"
   ]
  },
  {
   "cell_type": "code",
   "execution_count": 6,
   "metadata": {},
   "outputs": [],
   "source": [
    "def test(a: int, b: int) -> int:\n",
    "    return a + b"
   ]
  },
  {
   "cell_type": "code",
   "execution_count": 7,
   "metadata": {},
   "outputs": [
    {
     "data": {
      "text/plain": [
       "3"
      ]
     },
     "execution_count": 7,
     "metadata": {},
     "output_type": "execute_result"
    }
   ],
   "source": [
    "test(1, 2)"
   ]
  },
  {
   "cell_type": "code",
   "execution_count": 8,
   "metadata": {},
   "outputs": [
    {
     "ename": "TypeError",
     "evalue": "unsupported operand type(s) for +: 'int' and 'str'",
     "output_type": "error",
     "traceback": [
      "\u001b[0;31m---------------------------------------------------------------------------\u001b[0m",
      "\u001b[0;31mTypeError\u001b[0m                                 Traceback (most recent call last)",
      "Cell \u001b[0;32mIn [8], line 1\u001b[0m\n\u001b[0;32m----> 1\u001b[0m \u001b[43mtest\u001b[49m\u001b[43m(\u001b[49m\u001b[38;5;241;43m1\u001b[39;49m\u001b[43m,\u001b[49m\u001b[43m \u001b[49m\u001b[38;5;124;43m'\u001b[39;49m\u001b[38;5;124;43m2\u001b[39;49m\u001b[38;5;124;43m'\u001b[39;49m\u001b[43m)\u001b[49m\n",
      "Cell \u001b[0;32mIn [6], line 2\u001b[0m, in \u001b[0;36mtest\u001b[0;34m(a, b)\u001b[0m\n\u001b[1;32m      1\u001b[0m \u001b[38;5;28;01mdef\u001b[39;00m \u001b[38;5;21mtest\u001b[39m(a: \u001b[38;5;28mint\u001b[39m, b: \u001b[38;5;28mint\u001b[39m) \u001b[38;5;241m-\u001b[39m\u001b[38;5;241m>\u001b[39m \u001b[38;5;28mint\u001b[39m:\n\u001b[0;32m----> 2\u001b[0m     \u001b[38;5;28;01mreturn\u001b[39;00m \u001b[43ma\u001b[49m\u001b[43m \u001b[49m\u001b[38;5;241;43m+\u001b[39;49m\u001b[43m \u001b[49m\u001b[43mb\u001b[49m\n",
      "\u001b[0;31mTypeError\u001b[0m: unsupported operand type(s) for +: 'int' and 'str'"
     ]
    }
   ],
   "source": [
    "test(1, '2')"
   ]
  },
  {
   "cell_type": "code",
   "execution_count": 9,
   "metadata": {},
   "outputs": [],
   "source": [
    "def test(a: int, b: int) -> int:\n",
    "    if not isinstance(a, int) or not isinstance(b, int):\n",
    "        raise TypeError('a and b must be integers')\n",
    "\n",
    "    return a + b"
   ]
  },
  {
   "cell_type": "code",
   "execution_count": 10,
   "metadata": {},
   "outputs": [
    {
     "ename": "TypeError",
     "evalue": "a and b must be integers",
     "output_type": "error",
     "traceback": [
      "\u001b[0;31m---------------------------------------------------------------------------\u001b[0m",
      "\u001b[0;31mTypeError\u001b[0m                                 Traceback (most recent call last)",
      "Cell \u001b[0;32mIn [10], line 1\u001b[0m\n\u001b[0;32m----> 1\u001b[0m \u001b[43mtest\u001b[49m\u001b[43m(\u001b[49m\u001b[38;5;241;43m1\u001b[39;49m\u001b[43m,\u001b[49m\u001b[43m \u001b[49m\u001b[38;5;124;43m'\u001b[39;49m\u001b[38;5;124;43m2\u001b[39;49m\u001b[38;5;124;43m'\u001b[39;49m\u001b[43m)\u001b[49m\n",
      "Cell \u001b[0;32mIn [9], line 3\u001b[0m, in \u001b[0;36mtest\u001b[0;34m(a, b)\u001b[0m\n\u001b[1;32m      1\u001b[0m \u001b[38;5;28;01mdef\u001b[39;00m \u001b[38;5;21mtest\u001b[39m(a: \u001b[38;5;28mint\u001b[39m, b: \u001b[38;5;28mint\u001b[39m) \u001b[38;5;241m-\u001b[39m\u001b[38;5;241m>\u001b[39m \u001b[38;5;28mint\u001b[39m:\n\u001b[1;32m      2\u001b[0m     \u001b[38;5;28;01mif\u001b[39;00m \u001b[38;5;129;01mnot\u001b[39;00m \u001b[38;5;28misinstance\u001b[39m(a, \u001b[38;5;28mint\u001b[39m) \u001b[38;5;129;01mor\u001b[39;00m \u001b[38;5;129;01mnot\u001b[39;00m \u001b[38;5;28misinstance\u001b[39m(b, \u001b[38;5;28mint\u001b[39m):\n\u001b[0;32m----> 3\u001b[0m         \u001b[38;5;28;01mraise\u001b[39;00m \u001b[38;5;167;01mTypeError\u001b[39;00m(\u001b[38;5;124m'\u001b[39m\u001b[38;5;124ma and b must be integers\u001b[39m\u001b[38;5;124m'\u001b[39m)\n\u001b[1;32m      5\u001b[0m     \u001b[38;5;28;01mreturn\u001b[39;00m a \u001b[38;5;241m+\u001b[39m b\n",
      "\u001b[0;31mTypeError\u001b[0m: a and b must be integers"
     ]
    }
   ],
   "source": [
    "test(1, '2')"
   ]
  },
  {
   "cell_type": "markdown",
   "metadata": {},
   "source": [
    "## 사전 조건 (precondition)\n",
    "- Input 데이터가 적절한 형태여야 함\n",
    "- 단순한 타입 체크가 아니라 필요로 하는 값이 정확한지 확인하는 것에 가까움\n",
    "- 까다로운 접근 방법: 함수가 자체적으로 로직을 실행하기 전에 유효성 검사를 한다.\n",
    "    - 일반적으로 가장 안전하고 견고함, 업계에서도 널리 쓰임\n",
    "- 중복 제거 원칙: 함수 밖에서 검증하든 안에서 검증하든 어느 한쪽에서만 해야 한다"
   ]
  },
  {
   "cell_type": "markdown",
   "metadata": {},
   "source": [
    "## 사후 조건 (postcondition)\n",
    "- 메서드 또는 함수가 반환된 후의 상태를 강제하는 것\n",
    "- 반환 객체를 문제 없이 사용할 수 있는가?를 검증하는 것"
   ]
  },
  {
   "cell_type": "markdown",
   "metadata": {},
   "source": [
    "## 파이썬스러운 계약\n",
    "- PEP-316: Programming by Contract for Python\n",
    "    - 연기된 deferred 상태이지만... 연기되었다고 하여 이 원칙을 파이썬으로 구현할 수 없다는 뜻은 아니다!\n",
    "    - 메서드, 함수, 클래스에 제어 메커니즘을 추가하고 검사에 실패할 경우 RuntimeError나 ValueError를 발생시키자\n",
    "        - 사용자 정의 예외를 만드는 것도 좋다\n",
    "    - 코드를 가능한한 격리된 상태로 유지하자\n",
    "        - 사전 조건 / 사후 조건 / 핵심 기능 구현을 구분하자\n",
    "        - 데코레이터를 사용하는 것도 좋은 방법"
   ]
  },
  {
   "cell_type": "markdown",
   "metadata": {},
   "source": [
    "## 계약에 의한 디자인 (DbC) - 결론\n",
    "- 문제가 있는 부분을 효과적으로 식별하는 데 가치가 있다\n",
    "- 계약을 정의 -> 런타임 오류가 발생했을 때 무엇이 계약을 파손시켰는지 명확해짐 -> 코드가 견고해짐\n",
    "- 코드의 구조가 명확해짐\n",
    "- 추가 작업이 발생하지만 장기적인 보상을 받을 수 있다\n",
    "- 무엇을 검증할 것인지 신중한 검토가 필요하다\n",
    "    - 단순한 데이터 타입만 검사하는 것은 별로 의미가 없다"
   ]
  },
  {
   "cell_type": "markdown",
   "metadata": {},
   "source": [
    "# 방어적 defensive 프로그래밍\n",
    "- 계약에 의한 디자인과는 다소 다른 접근 방식\n",
    "    - 객체, 함수, 메서드의 모든 부분을 유효하지 않은 것으로부터 스스로 보호할 수 있게 하는 것\n",
    "    - 다른 철학을 가졌다기 보다는 서로 보완 관계에 있을 수 있다는 것을 의미\n",
    "- 주요 주제\n",
    "    - 예상할 수 있는 시나리오의 오류를 처리하는 방법: 에러 핸들링 프로시저\n",
    "    - 발생하지 않아야 하는 오류를 처리하는 방법: assertion"
   ]
  },
  {
   "cell_type": "markdown",
   "metadata": {},
   "source": [
    "\n",
    "## 에러핸들링\n",
    "- 에러에 대해서 실행을 계속할 수 있을지 프로그램을 중단할지 결정하는 것\n",
    "- 에러 처리 방법\n",
    "    - 값 대체 (value substitution)\n",
    "    - 에러 로깅\n",
    "    - 예외 처리"
   ]
  },
  {
   "cell_type": "markdown",
   "metadata": {},
   "source": [
    "### 값 대체\n",
    "- 소프트웨어가 잘못된 값을 생성하거자 전체가 종료될 위험이 있을 경우 안전한 다른 값으로 대체할 수 있다\n",
    "- 기본 값, 잘 알려진 상수, 초기 값으로...\n",
    "- 견고성과 정확성 간의 트레이드오프\n",
    "    - 대체 값이 실제로 안전한 옵션인 경우에 한해 신중하게 선택해야 한다.\n",
    "    - 소프트웨어는 예상치 못한 상황에서도 실패하지 않아야 견고하다.\n",
    "    - 하지만 무조건 실패하지 않는 것이 항상 옳은 것은 아니다.\n",
    "- 민감하고 중요한 정보를 다루는 소프트웨어의 경우 부정확한 결과를 내보내는 것 보다는 정확하더라도 대체 값을 사용하지 않는 것이 낫다.\n",
    "- 안전을 위하여 기본 값을 제공할 수도 있다.\n",
    "    - 설정되지 않은 환경변수의 기본 값\n",
    "    - 설정 파일의 누락된 항목\n",
    "    - 함수의 파라미터의 기본 값"
   ]
  },
  {
   "cell_type": "code",
   "execution_count": 4,
   "metadata": {},
   "outputs": [
    {
     "data": {
      "text/plain": [
       "'localhost'"
      ]
     },
     "execution_count": 4,
     "metadata": {},
     "output_type": "execute_result"
    }
   ],
   "source": [
    "configuration = {\"dbport\": 5432}\n",
    "configuration.get(\"dbhost\", \"localhost\")"
   ]
  },
  {
   "cell_type": "code",
   "execution_count": 2,
   "metadata": {},
   "outputs": [
    {
     "data": {
      "text/plain": [
       "5432"
      ]
     },
     "execution_count": 2,
     "metadata": {},
     "output_type": "execute_result"
    }
   ],
   "source": [
    "configuration.get(\"dbport\")"
   ]
  },
  {
   "cell_type": "code",
   "execution_count": 5,
   "metadata": {},
   "outputs": [],
   "source": [
    "import os\n",
    "\n",
    "os.getenv(\"DBHOST\")"
   ]
  },
  {
   "cell_type": "code",
   "execution_count": 11,
   "metadata": {},
   "outputs": [
    {
     "data": {
      "text/plain": [
       "5432"
      ]
     },
     "execution_count": 11,
     "metadata": {},
     "output_type": "execute_result"
    }
   ],
   "source": [
    "os.getenv(\"DBPORT\", 5432)"
   ]
  },
  {
   "cell_type": "markdown",
   "metadata": {},
   "source": [
    "### 예외 처리\n",
    "- 잘못된 값을 입력한 경우에 복구하기 보다는 차라리 실행을 멈추고 호출자에게 빨리 알리는 것이 좋을 수 있다\n",
    "- 외부 컴포넌트 중 하나의 문제로 인한 예외가 발생할 수 있다\n",
    "    - 적절하게 인터페이스를 설계하면 쉽게 디버깅할 수 있다\n",
    "- 예외 메커니즘: 예외적인 상황을 명확하게 알려주고 원래의 비즈니스 로직에 따라 흐름을 유지하자\n",
    "- 그치만 예외를 go-to 문처럼 쓰면 안된다.... 호출자가 알아야만 하는 실질적인 문제가 있을 경우에만 예외를 발생시키자\n",
    "\n",
    "- 예외는 캡슐화를 약화시킨다\n",
    "    - 호출자에게 잘못을 알려주는 것 -> 호출자가 함수에 대해 더 많은 것을 알아야만 한다는 것\n",
    "    - 너무 많은 예외를 발생시켜버리면 문맥에서 자유롭지 않다는 것을 의미\n",
    "        - 왜냐하면 호출할때마다 발생 가능한 부작용을 염두에 둬야 하기 때문!\n",
    "        - 이런 경우 차라리 여러 기능으로 쪼갤 수 있는 지 검토해 보자\n"
   ]
  },
  {
   "cell_type": "markdown",
   "metadata": {},
   "source": [
    "#### 올바른 수준의 추상화 단계에서 예외 처리\n",
    "- 함수 - 오직 한 가지 일만 해야 함\n",
    "- 예외 - 그러한 함수의 한 부분이어야 한다\n",
    "- 함수가 처리하는 / 발생시키는 예외는 함수가 캡슐화하고 있는 \"로직\"에 대한 것이어야 한다\n",
    "- 서로 다른 추상화를 혼합하는 예제"
   ]
  },
  {
   "cell_type": "code",
   "execution_count": 13,
   "metadata": {},
   "outputs": [],
   "source": [
    "import logging\n",
    "import time\n",
    "\n",
    "\n",
    "logger = logging.getLogger(__name__)\n",
    "\n",
    "\n",
    "class Connector:\n",
    "    \"\"\"Abstract the connection to a database.\"\"\"\n",
    "\n",
    "    def connect(self):\n",
    "        \"\"\"Connect to a data source.\"\"\"\n",
    "        return self\n",
    "\n",
    "    @staticmethod\n",
    "    def send(data):\n",
    "        return data\n",
    "\n",
    "\n",
    "class Event:\n",
    "    def __init__(self, payload):\n",
    "        self._payload = payload\n",
    "\n",
    "    def decode(self):\n",
    "        return f\"decoded {self._payload}\"\n",
    "\n",
    "\n",
    "def connect_with_retry(\n",
    "    connector: Connector, retry_n_times: int, retry_backoff: int = 5\n",
    "):\n",
    "    \"\"\"Tries to establish the connection of <connector> retrying\n",
    "    <retry_n_times>, and waiting <retry_backoff> seconds between attempts.\n",
    "\n",
    "    If it can connect, returns the connection object.\n",
    "    If it's not possible to connect after the retries have been exhausted, raises ``ConnectionError``.\n",
    "\n",
    "    :param connector:         An object with a ``.connect()`` method.\n",
    "    :param retry_n_times int: The number of times to try to call\n",
    "                                ``connector.connect()``.\n",
    "    :param retry_backoff int: The time lapse between retry calls.\n",
    "\n",
    "    \"\"\"\n",
    "    for _ in range(retry_n_times):\n",
    "        try:\n",
    "            return connector.connect()\n",
    "        except ConnectionError as e:\n",
    "            logger.info(\n",
    "                \"%s: attempting new connection in %is\", e, retry_backoff\n",
    "            )\n",
    "            time.sleep(retry_backoff)\n",
    "    exc = ConnectionError(f\"Couldn't connect after {retry_n_times} times\")\n",
    "    logger.exception(exc)\n",
    "    raise exc\n",
    "\n",
    "\n",
    "class DataTransport:\n",
    "    \"\"\"An example of an object handling exceptions of different levels.\"\"\"\n",
    "\n",
    "    _RETRY_BACKOFF: int = 5\n",
    "    _RETRY_TIMES: int = 3\n",
    "\n",
    "    def __init__(self, connector: Connector) -> None:\n",
    "        self._connector = connector\n",
    "        self.connection = None\n",
    "\n",
    "    def deliver_event(self, event: Event):\n",
    "        try:\n",
    "            self.connect()\n",
    "            data = event.decode()\n",
    "            self.send(data)\n",
    "        except ConnectionError as e:\n",
    "            logger.info(\"connection error detected: %s\", e)\n",
    "            raise\n",
    "        except ValueError as e:\n",
    "            logger.error(\"%r contains incorrect data: %s\", event, e)\n",
    "            raise\n",
    "\n",
    "    def connect(self):\n",
    "        for _ in range(self._RETRY_TIMES):\n",
    "            try:\n",
    "                self.connection = self._connector.connect()\n",
    "            except ConnectionError as e:\n",
    "                logger.info(\n",
    "                    \"%s: attempting new connection in %is\",\n",
    "                    e,\n",
    "                    self._RETRY_BACKOFF,\n",
    "                )\n",
    "                time.sleep(self._RETRY_BACKOFF)\n",
    "            else:\n",
    "                return self.connection\n",
    "        raise ConnectionError(\n",
    "            f\"Couldn't connect after {self._RETRY_TIMES} times\"\n",
    "        )\n",
    "\n",
    "    def send(self, data: bytes):\n",
    "        return self.connection.send(data)"
   ]
  },
  {
   "cell_type": "markdown",
   "metadata": {},
   "source": [
    "- `deliver_event` 메서드의 ValueError 와 ConnectionError는 관계가 없다\n",
    "    - ConnectionError는 connect 메서드 내에서 처리되어야 한다\n",
    "    - 그러므로 이 두 부분을 분리하여야 한다"
   ]
  },
  {
   "cell_type": "code",
   "execution_count": null,
   "metadata": {},
   "outputs": [],
   "source": [
    "def connect_with_retry(\n",
    "    connector: Connector, retry_n_times: int, retry_backoff: int = 5\n",
    "):\n",
    "    \"\"\"Tries to establish the connection of <connector> retrying\n",
    "    <retry_n_times>, and waiting <retry_backoff> seconds between attempts.\n",
    "\n",
    "    If it can connect, returns the connection object.\n",
    "    If it's not possible to connect after the retries have been exhausted, raises ``ConnectionError``.\n",
    "\n",
    "    :param connector:         An object with a ``.connect()`` method.\n",
    "    :param retry_n_times int: The number of times to try to call\n",
    "                                ``connector.connect()``.\n",
    "    :param retry_backoff int: The time lapse between retry calls.\n",
    "\n",
    "    \"\"\"\n",
    "    for _ in range(retry_n_times):\n",
    "        try:\n",
    "            return connector.connect()\n",
    "        except ConnectionError as e:\n",
    "            logger.info(\n",
    "                \"%s: attempting new connection in %is\", e, retry_backoff\n",
    "            )\n",
    "            time.sleep(retry_backoff)\n",
    "    exc = ConnectionError(f\"Couldn't connect after {retry_n_times} times\")\n",
    "    logger.exception(exc)\n",
    "    raise exc\n",
    "\n",
    "\n",
    "class DataTransport:\n",
    "    \"\"\"An example of an object that separates the exception handling by\n",
    "    abstraction levels.\n",
    "    \"\"\"\n",
    "\n",
    "    _RETRY_BACKOFF: int = 5\n",
    "    _RETRY_TIMES: int = 3\n",
    "\n",
    "    def __init__(self, connector: Connector) -> None:\n",
    "        self._connector = connector\n",
    "        self.connection = None\n",
    "\n",
    "    def deliver_event(self, event: Event):\n",
    "        self.connection = connect_with_retry(\n",
    "            self._connector, self._RETRY_TIMES, self._RETRY_BACKOFF\n",
    "        )\n",
    "        self.send(event)\n",
    "\n",
    "    def send(self, event: Event):\n",
    "        try:\n",
    "            return self.connection.send(event.decode())\n",
    "        except ValueError as e:\n",
    "            logger.error(\"%r contains incorrect data: %s\", event, e)\n",
    "            raise"
   ]
  },
  {
   "cell_type": "markdown",
   "metadata": {},
   "source": [
    "#### 엔드 유저에게 Traceback 노출 금지\n",
    "- 보안을 위한 고려 사항\n",
    "    - 예외 처리 시 오류 발생 사실이 너무 중요하다면 전파하는 것이 가능하지만,\n",
    "    - 검토된 특정 시나리오이거나 견고함보다 정확성이 중요한 경우 등에는 프로그램을 바로 중단할수도 있다.\n",
    "- traceback 정보나 메시지, 기타 수집 가능한 정보를 최대한 로그로 남기되 절대 사용자에게 보여서는 안된다.\n",
    "    - 중요 정보나 지적 재산이 유출될 위험이 있다\n",
    "- \"알 수 없는 문제가 발생했습니다\" 또는 \"페이지를 찾을 수 없습니다\""
   ]
  },
  {
   "cell_type": "markdown",
   "metadata": {},
   "source": [
    "#### 비어있는 except 블록 코드 지양\n",
    "- 안티 패턴 중에서도 가장 악마같은 패턴 (REAL 01?)\n",
    "    - 아무것도 하지 않은 채로 조용히 지나쳐버리는 비어있는 except 블록\n",
    "- 에러는 결코 조용히 전달되어서는 안된다 - The Zen of Python"
   ]
  },
  {
   "cell_type": "code",
   "execution_count": 17,
   "metadata": {},
   "outputs": [],
   "source": [
    "def process_data():\n",
    "    # do something\n",
    "    pass\n",
    "\n",
    "try:\n",
    "    process_data()\n",
    "except:\n",
    "    pass"
   ]
  },
  {
   "cell_type": "markdown",
   "metadata": {},
   "source": [
    "- 대안\n",
    "    - 구체적인 예외를 사용하자 (Exception 같은걸 쓰지 말자)\n",
    "        - AttributeError or KeyError\n",
    "    - except 블록에서 실제 오류 처리를 하자\n",
    "        - 로깅을 하거나\n",
    "        - 기본 값을 반환하거나 (오류를 발견한 뒤에만 사용하는 값)\n",
    "        - 기본 오류와 다른 새로운 오류를 발생시키거나\n",
    "            - 이 경우 원본 예외를 함께 전달하자\n",
    "    - 둘다 하는 것이 좋다\n",
    "- pass가 나쁜 이유\n",
    "    - 의미하는 바를 알 수 없다\n",
    "        - 실제로 해당 오류를 무시하기 위해서인지 아닌지...\n",
    "        - 오류를 무시하려면 `contextlib.suppress`를 사용합시다"
   ]
  },
  {
   "cell_type": "code",
   "execution_count": 18,
   "metadata": {},
   "outputs": [],
   "source": [
    "import contextlib\n",
    "\n",
    "with contextlib.suppress(KeyError):\n",
    "    process_data()"
   ]
  },
  {
   "cell_type": "markdown",
   "metadata": {},
   "source": [
    "#### 원본 예외 포함\n",
    "- 새 오류 메시지를 발생시킬 때 원본 메시지를 포함시키는 방법\n",
    "- PEP-3134: Exception Chaining and Embedded Tracebacks\n",
    "    - `raise e from original_exception` \n",
    "    - `__cause__` 속성에 할당된다."
   ]
  },
  {
   "cell_type": "code",
   "execution_count": 19,
   "metadata": {},
   "outputs": [],
   "source": [
    "class InternalDataError(Exception):\n",
    "    \"\"\"Exception for representing an error in the data container.\"\"\"\n",
    "    def process(data_dictionary, record_id):\n",
    "        try:\n",
    "            return data_dictionary[record_id]\n",
    "        except KeyError as e:\n",
    "            raise InternalDataError(\n",
    "                f\"Record {record_id} is not present in the data set\"\n",
    "            ) from e"
   ]
  },
  {
   "cell_type": "markdown",
   "metadata": {},
   "source": [
    "### 파이썬에서 assertion 사용하기\n",
    "- 절대 일어나지 않아야 하는 상황에 사용되는 것, 불가능한 조건\n",
    "- 소프트웨어에 결함이 있음을 의미\n",
    "- assert 문을 비즈니스 로직과 섞거나 소프트웨어 제어 흐름 메커니즘으로 사용하지는 말자"
   ]
  },
  {
   "cell_type": "code",
   "execution_count": null,
   "metadata": {},
   "outputs": [],
   "source": [
    "# Bad example\n",
    "try:\n",
    "    assert condition.holds(), \"Condition not met\"\n",
    "except AssertionError:\n",
    "    alternative_procedure()"
   ]
  },
  {
   "cell_type": "markdown",
   "metadata": {},
   "source": [
    "- Assertion이 뜨면 프로그램이 종료되어야 한다\n",
    "- 파이썬 쓸 때 -O 플래그와 함께 실행하면 assert 문을 무시하도록 할 수 있다\n",
    "    - 하지만 장려하지 않음\n",
    "- Assertion 문이 함수이면 안된다. \n",
    "- 예외와 assert의 차이\n",
    "    - 예외는 예상치 못한 상황을 처리하기 위한 것\n",
    "    - assert는 정확성을 보장하기 위해 스스로 체크하기 위한 것\n",
    "    - 예외가 일반적"
   ]
  },
  {
   "cell_type": "markdown",
   "metadata": {},
   "source": [
    "# 관심사의 분리\n",
    "- 책임이 다르면 컴포넌트, 계층 또는 모듈로 분리되어야 한다\n",
    "- 파급 ripple 효과\n",
    "    - 어느 지점에서의 변화가 전체로 전파되는 것\n",
    "    - 함수 정의를 약간만 변경해도 코드 여러 부분에 영향을 미쳐 많은 코드를 변경해야 하는 것"
   ]
  },
  {
   "cell_type": "markdown",
   "metadata": {},
   "source": [
    "## 응집력 cohesion 과 결합력 coupling\n",
    "- 응집력\n",
    "    - 객체가 작고 잘 정의된 목적을 가져야 함\n",
    "- 결합력\n",
    "    - 두 개 이상의 객체가 어떻게 의존하는지\n",
    "    - 너무 의존적이라면 바람직하지 않음\n",
    "        - 낮은 재사용성: 지나치게 의존하거나 너무 많은 파라미터를 가진 경우 결합력이 높음 -> 다른 상황에서는 사용하기 어려움 \n",
    "        - 파급 효과: 두 부분 중 하나를 변경하면 다른 부분에도 영향을 미침\n",
    "        - 낮은 수준의 추상화: 서로 다른 추상화 레벨에서 문제를 해결하기 어려워 관심사가 분리되어 있다고 보기 어려움\n",
    "- 높은 응집력, 낮은 결합력!"
   ]
  },
  {
   "cell_type": "markdown",
   "metadata": {},
   "source": [
    "# 개발 지침 약어\n",
    "## DRY / OAOO\n",
    "- DRY: Do not Repeat Yourself\n",
    "- OAOO: Once And Only Once\n",
    "- 설명\n",
    "    - 코드에 있는 지식은 단 한번 단 한 곳에 정의되어야 한다.\n",
    "    - 코드 중복은 유지보수에 직접적인 영향을 미친다\n",
    "- 단점\n",
    "    - 오류가 발생하기 쉽다: 수정했을 때 하나라도 빠뜨리면 버그가 발생\n",
    "    - 비용이 비싸다: 변경하는데 더 많은 시간이 소요된다\n",
    "    - 신뢰성이 떨어진다: 데이터의 완결성이 떨어진다"
   ]
  },
  {
   "cell_type": "code",
   "execution_count": null,
   "metadata": {},
   "outputs": [],
   "source": [
    "def process_students_list(students):\n",
    "    students_ranking = sorted(\n",
    "        students, key=lambda s: s.passed * 11 - s.failed * 5 - s.years * 2\n",
    "    )\n",
    "\n",
    "    for student in students_ranking:\n",
    "        print(\n",
    "            \"이름: {0}, 점수: {1}\".foramt(\n",
    "                student.name, \n",
    "                student.passed * 11 - student.failed * 5 - student.years * 2\n",
    "            )\n",
    "        )"
   ]
  },
  {
   "cell_type": "markdown",
   "metadata": {},
   "source": [
    "## YAGNI\n",
    "- You Ain't Gonna Need It\n",
    "    - 과잉 엔지니어링을 하지 않기 위해 염두에 두어야 하는 원칙\n",
    "- 유지 보수가 가능한 소프트웨어를 만들기 != 미래의 요구 사항을 예측하기\n",
    "    - 현재의 요구사항을 잘 해결하기 위한 소프트웨어를 작성하고 가능한 나중에 수정하기 쉽도록 작성하자\n",
    "- 상세 코드 수준 / 전체적인 소프트웨어 아키텍쳐 수준에서 적용할 수 있음"
   ]
  },
  {
   "cell_type": "markdown",
   "metadata": {},
   "source": [
    "## KIS\n",
    "- Keep It Simple\n",
    "    - 소프트웨어 컴포넌트를 설계할 때 과잉 엔지니어링을 피해야 한다\n",
    "    - 디자인이 단순할수록 유지 관리가 쉽다\n",
    "- 역시 모든 추상화 수준에서 염두에 두어야 한다"
   ]
  },
  {
   "cell_type": "code",
   "execution_count": 21,
   "metadata": {},
   "outputs": [],
   "source": [
    "class ComplicatedNamespace:\n",
    "    \"\"\"An convoluted example of initializing an object with some properties.\n",
    "\n",
    "    >>> cn = ComplicatedNamespace.init_with_data(\n",
    "    ...    id_=42, user=\"root\", location=\"127.0.0.1\", extra=\"excluded\"\n",
    "    ... )\n",
    "    >>> cn.id_, cn.user, cn.location\n",
    "    (42, 'root', '127.0.0.1')\n",
    "\n",
    "    >>> hasattr(cn, \"extra\")\n",
    "    False\n",
    "\n",
    "    \"\"\"\n",
    "\n",
    "    ACCEPTED_VALUES = (\"id_\", \"user\", \"location\")\n",
    "\n",
    "    @classmethod\n",
    "    def init_with_data(cls, **data):\n",
    "        instance = cls()\n",
    "        for key, value in data.items():\n",
    "            if key in cls.ACCEPTED_VALUES:\n",
    "                setattr(instance, key, value)\n",
    "        return instance\n",
    "\n",
    "\n",
    "class Namespace:\n",
    "    \"\"\"Create an object from keyword arguments.\n",
    "\n",
    "    >>> cn = Namespace(\n",
    "    ...    id_=42, user=\"root\", location=\"127.0.0.1\", extra=\"excluded\"\n",
    "    ... )\n",
    "    >>> cn.id_, cn.user, cn.location\n",
    "    (42, 'root', '127.0.0.1')\n",
    "\n",
    "    >>> hasattr(cn, \"extra\")\n",
    "    False\n",
    "    \"\"\"\n",
    "\n",
    "    ACCEPTED_VALUES = (\"id_\", \"user\", \"location\")\n",
    "\n",
    "    def __init__(self, **data):\n",
    "        for attr_name, attr_value in data.items():\n",
    "            if attr_name in self.ACCEPTED_VALUES:\n",
    "                setattr(self, attr_name, attr_value)"
   ]
  },
  {
   "cell_type": "markdown",
   "metadata": {},
   "source": [
    "## EAFP/LBYL\n",
    "- Easier to Ask Forgiveness than Permission\n",
    "    - 먼저 코드를 실행하고 실제 동작하지 않을 경우에 대응한다\n",
    "    - 일단 코드를 실행하고 발생한 예외를 catch하고 except 블록에서 바로잡는 코드를 실행\n",
    "- Look Before You Leap\n",
    "    - 먼저 무엇을 사용하려고 하는지 확인한 후 실행"
   ]
  },
  {
   "cell_type": "code",
   "execution_count": null,
   "metadata": {},
   "outputs": [],
   "source": [
    "# EAFP\n",
    "try:\n",
    "    with open(filename) as f:\n",
    "        content = f.read()\n",
    "except FileNotFoundError:\n",
    "    logger.error(\"File not found\")\n",
    "\n",
    "# LBYL\n",
    "if os.path.exists(filename):\n",
    "    with open(filename) as f:\n",
    "        content = f.read()"
   ]
  },
  {
   "cell_type": "markdown",
   "metadata": {},
   "source": [
    "- 대부분 EAFP, 특수한 경우 LBYL\n",
    "    - EAFP가 의미가 명확하고 가독성이 높다"
   ]
  },
  {
   "cell_type": "markdown",
   "metadata": {},
   "source": [
    "# 상속\n",
    "- 상속은 결합력이 높은 클래스 관계를 만든다\n",
    "- 코드 재사용 - 단지 부모 클래스의 메서드를 얻기 위해 상속하는 것은 좋지 않은 생각\n",
    "- 코드를 재사용하고 싶다? 조합해서 써라\n"
   ]
  },
  {
   "cell_type": "markdown",
   "metadata": {},
   "source": [
    "## 상속이 좋은 선택인 경우\n",
    "- 파생 클래스는 양날의 검\n",
    "    - 부모 클래스를 공짜로 전수받지만 너무 많은 기능을 불필요하게 추가하게 되기도\n",
    "- 상속된 모든 메서드를 실제로 사용할 것인가?\n",
    "- 설계상의 실수인 것\n",
    "    - 상위 클래스는 잘 정의된 인터페이스 (x) 막연한 정의와 너무 많은 책임\n",
    "    - 하위 클래스는 확장하려고 하는 상위 클래스의 적절한 세분화가 아님\n",
    "- 이 클래스와 같은 기능을 하지만 일부 기능을 수정하거나 새로운 것을 추가하고 싶어서 상속을 한 경우 Good"
   ]
  },
  {
   "cell_type": "markdown",
   "metadata": {},
   "source": [
    "\n",
    "## 상속 안티 패턴\n",
    "- 상속을 올바르게 사용했다면 파생된 클래스는 부모 클래스의 \"전문화\"/\"구체화\" 가 된다\n",
    "- 그치만 일관성을 가져야 한다\n",
    "    - 부모 클래스가 가지지 않은 무관한 메서드가 추가되었다면 올바른 상속이라 볼 수 없다\n",
    "- 그런 경우엔 컴포지션을 활용하자\n"
   ]
  },
  {
   "cell_type": "markdown",
   "metadata": {},
   "source": [
    "## 파이썬의 다중상속\n",
    "- 양날의 검: 유익할수도 있지만 올바르게 구현하지 않으면 문제가 커진다\n",
    "- 어댑터 패턴이나 믹스인에 활용할 수 있다"
   ]
  },
  {
   "cell_type": "markdown",
   "metadata": {},
   "source": [
    "### 메서드 결정 순서 (MRO)\n",
    "- 다이아몬드 문제\n",
    "    - 파이썬은 메서드 결정 순서를 가지고 있으므로 다이아몬드 문제가 발생하지 않는다"
   ]
  },
  {
   "cell_type": "markdown",
   "metadata": {},
   "source": [
    "### 믹스인 (mixin)\n",
    "- \"행동\"을 캡슐화해놓은 부모 클래스\n",
    "- 다중 상속한 파생 클래스가 있을 때 의미가 생김"
   ]
  },
  {
   "cell_type": "code",
   "execution_count": 22,
   "metadata": {},
   "outputs": [],
   "source": [
    "class BaseTokenizer:\n",
    "    \"\"\"\n",
    "    >>> tk = BaseTokenizer(\"28a2320b-fd3f-4627-9792-a2b38e3c46b0\")\n",
    "    >>> list(tk)\n",
    "    ['28a2320b', 'fd3f', '4627', '9792', 'a2b38e3c46b0']\n",
    "    \"\"\"\n",
    "\n",
    "    def __init__(self, str_token):\n",
    "        self.str_token = str_token\n",
    "\n",
    "    def __iter__(self):\n",
    "        yield from self.str_token.split(\"-\")\n",
    "\n",
    "\n",
    "class UpperIterableMixin:\n",
    "    def __iter__(self):\n",
    "        return map(str.upper, super().__iter__())\n",
    "\n",
    "\n",
    "class Tokenizer(UpperIterableMixin, BaseTokenizer):\n",
    "    \"\"\"\n",
    "    >>> tk = Tokenizer(\"28a2320b-fd3f-4627-9792-a2b38e3c46b0\")\n",
    "    >>> list(tk)\n",
    "    ['28A2320B', 'FD3F', '4627', '9792', 'A2B38E3C46B0']\n",
    "    \"\"\""
   ]
  },
  {
   "cell_type": "code",
   "execution_count": 23,
   "metadata": {},
   "outputs": [
    {
     "data": {
      "text/plain": [
       "['28A2320B', 'FD3F', '4627', '9792', 'A2B38E3C46B0']"
      ]
     },
     "execution_count": 23,
     "metadata": {},
     "output_type": "execute_result"
    }
   ],
   "source": [
    "tokenizer = Tokenizer(\"28a2320b-fd3f-4627-9792-a2b38e3c46b0\")\n",
    "list(tokenizer)"
   ]
  },
  {
   "cell_type": "markdown",
   "metadata": {},
   "source": [
    "# 함수와 메서드의 인자\n",
    "## 파이썬의 함수 인자 동작방식\n",
    "### 인자는 함수에 어떻게 복사되는가\n",
    "- pass by value"
   ]
  },
  {
   "cell_type": "code",
   "execution_count": 24,
   "metadata": {},
   "outputs": [
    {
     "name": "stdout",
     "output_type": "stream",
     "text": [
      "hello in function\n"
     ]
    }
   ],
   "source": [
    "def function(arg):\n",
    "    arg += \" in function\"\n",
    "    print(arg)\n",
    "\n",
    "immutable = \"hello\"\n",
    "\n",
    "function(immutable)"
   ]
  },
  {
   "cell_type": "code",
   "execution_count": 25,
   "metadata": {},
   "outputs": [
    {
     "data": {
      "text/plain": [
       "'hello'"
      ]
     },
     "execution_count": 25,
     "metadata": {},
     "output_type": "execute_result"
    }
   ],
   "source": [
    "mutable = list(\"hello\")\n",
    "immutable"
   ]
  },
  {
   "cell_type": "code",
   "execution_count": 26,
   "metadata": {},
   "outputs": [
    {
     "name": "stdout",
     "output_type": "stream",
     "text": [
      "['h', 'e', 'l', 'l', 'o', ' ', 'i', 'n', ' ', 'f', 'u', 'n', 'c', 't', 'i', 'o', 'n']\n"
     ]
    }
   ],
   "source": [
    "function(mutable)"
   ]
  },
  {
   "cell_type": "code",
   "execution_count": 27,
   "metadata": {},
   "outputs": [
    {
     "data": {
      "text/plain": [
       "['h',\n",
       " 'e',\n",
       " 'l',\n",
       " 'l',\n",
       " 'o',\n",
       " ' ',\n",
       " 'i',\n",
       " 'n',\n",
       " ' ',\n",
       " 'f',\n",
       " 'u',\n",
       " 'n',\n",
       " 'c',\n",
       " 't',\n",
       " 'i',\n",
       " 'o',\n",
       " 'n']"
      ]
     },
     "execution_count": 27,
     "metadata": {},
     "output_type": "execute_result"
    }
   ],
   "source": [
    "mutable"
   ]
  },
  {
   "cell_type": "markdown",
   "metadata": {},
   "source": [
    "- 함수 인자를 함수 안에서 변경하지 말자. 최대한 함수 호출을 통해 발생할 수 있는 부작용을 회피하자"
   ]
  },
  {
   "cell_type": "markdown",
   "metadata": {},
   "source": [
    "### 가변 인자\n",
    "- 우리가 아는 그거"
   ]
  },
  {
   "cell_type": "markdown",
   "metadata": {},
   "source": [
    "### 위치 전용 (positional-only) 인자\n"
   ]
  }
 ],
 "metadata": {
  "kernelspec": {
   "display_name": "statistics",
   "language": "python",
   "name": "statistics"
  },
  "language_info": {
   "codemirror_mode": {
    "name": "ipython",
    "version": 3
   },
   "file_extension": ".py",
   "mimetype": "text/x-python",
   "name": "python",
   "nbconvert_exporter": "python",
   "pygments_lexer": "ipython3",
   "version": "3.10.8"
  }
 },
 "nbformat": 4,
 "nbformat_minor": 2
}
